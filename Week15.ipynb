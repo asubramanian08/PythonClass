{
 "cells": [
  {
   "cell_type": "markdown",
   "metadata": {},
   "source": [
    "## Programming Project"
   ]
  },
  {
   "cell_type": "code",
   "execution_count": null,
   "metadata": {},
   "outputs": [],
   "source": [
    "\"\"\" count leaves in subtree \"\"\"\n",
    "\n",
    "def DFS(node, tree, diverges):\n",
    "    for next in tree[node]:\n",
    "        diverges[node] += DFS(next-1, tree, diverges)\n",
    "    if diverges[node] == 0:\n",
    "        diverges[node] = 1\n",
    "    return diverges[node]\n",
    "\n",
    "\n",
    "def findRoot(numNodes, tree):\n",
    "    parents = []\n",
    "    for i in range(numNodes):\n",
    "        parents.append(0)\n",
    "    for i in range(numNodes):\n",
    "        for j in tree[i]:\n",
    "            parents[j-1] += 1\n",
    "    for i in range(numNodes):\n",
    "        if parents[i] == 0:\n",
    "            return i\n",
    "    return numNodes  # NA\n",
    "\n",
    "\n",
    "numNodes = int(input())\n",
    "tree = [[]]\n",
    "tree.clear()\n",
    "for i in range(numNodes):\n",
    "    tree.append(list(map(int, input().strip().split())))\n",
    "root = findRoot(numNodes, tree)\n",
    "diverges = []\n",
    "for i in range(numNodes):\n",
    "    diverges.append(0)\n",
    "DFS(root, tree, diverges)\n",
    "for i in range(numNodes):\n",
    "    print(diverges[i])\n"
   ]
  }
 ],
 "metadata": {
  "interpreter": {
   "hash": "aee8b7b246df8f9039afb4144a1f6fd8d2ca17a180786b69acc140d282b71a49"
  },
  "kernelspec": {
   "display_name": "Python 3.9.10 64-bit",
   "language": "python",
   "name": "python3"
  },
  "language_info": {
   "name": "python",
   "version": "3.9.10"
  },
  "orig_nbformat": 4
 },
 "nbformat": 4,
 "nbformat_minor": 2
}
