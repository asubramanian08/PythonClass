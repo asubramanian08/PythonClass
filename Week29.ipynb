{
 "cells": [
  {
   "cell_type": "markdown",
   "metadata": {},
   "source": [
    "### Lesson: Binary Search\n",
    "\n",
    "There is a fast way to search if an element is in a sorted array.\n",
    "\n",
    "The key ideas:\n",
    " * All `arr[k] <= arr[i]` if and only if `k < i`.\n",
    " * If you are searching for some `x` you can check where it is on the array respective to some index `i`.\n",
    " * You can keep cutting in half what section of the array you have to search.\n",
    "\n",
    "How to binary search\n",
    " * Maintain a `lo` and `hi` variable that correspond the the slice of the array you are looking at.\n",
    " * Determine a `mid = (lo + hi) / 2` that you use to \"cut\" the array in half.\n",
    " * From there update your `lo` or `hi` variable to `mid + 1` or `mid - 1` (respectively) depending on if `x < arr[mid]`.\n",
    " * Repeat the above steps `while lo <= hi`. \n",
    " * If `arr[lo] == x` then x is in the array, otherwise it is not."
   ]
  },
  {
   "cell_type": "code",
   "execution_count": null,
   "metadata": {},
   "outputs": [],
   "source": [
    "\"\"\" Binary Search taken from week 26 \"\"\"\n",
    "lo = 0\n",
    "hi = len(arr) - 1\n",
    "while (lo <= hi):\n",
    "    mid = int((lo + hi) / 2)\n",
    "    if arr[mid] < x:\n",
    "        lo = mid + 1\n",
    "    elif arr[mid] > x:\n",
    "        hi = mid - 1\n",
    "    else:\n",
    "        return True\n",
    "return False"
   ]
  },
  {
   "cell_type": "markdown",
   "metadata": {},
   "source": [
    "## Programming Problems\n",
    "\n",
    "Continue with the previous problem, adding the binary search code."
   ]
  }
 ],
 "metadata": {
  "interpreter": {
   "hash": "aee8b7b246df8f9039afb4144a1f6fd8d2ca17a180786b69acc140d282b71a49"
  },
  "kernelspec": {
   "display_name": "Python 3.9.10 64-bit",
   "language": "python",
   "name": "python3"
  },
  "language_info": {
   "name": "python",
   "version": "3.9.10"
  },
  "orig_nbformat": 4
 },
 "nbformat": 4,
 "nbformat_minor": 2
}
