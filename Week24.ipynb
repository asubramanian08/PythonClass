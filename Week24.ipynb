{
 "cells": [
  {
   "cell_type": "markdown",
   "metadata": {},
   "source": [
    "## Programming Problem"
   ]
  },
  {
   "cell_type": "code",
   "execution_count": null,
   "metadata": {},
   "outputs": [],
   "source": [
    "\"\"\" Ask the user to count from 1 to some number.\n",
    "They have to input the numbers in order, if they do say good job,\n",
    "otherwise say what the number that should have been printed is. \"\"\"\n",
    "\n",
    "COUNT_TILL = 10\n",
    "enteredCorrectly = True\n",
    "print(\"Enter all number from 1 till\", COUNT_TILL, \"in order\")\n",
    "for i in range(COUNT_TILL):\n",
    "    if int(input()) != i + 1:\n",
    "        print(\"Wrong input, you should have entered\", i + 1)\n",
    "        enteredCorrectly = False\n",
    "        break\n",
    "if enteredCorrectly:\n",
    "    print(\"You entered all the numbers till\", COUNT_TILL, \"correctly!\")"
   ]
  }
 ],
 "metadata": {
  "interpreter": {
   "hash": "aee8b7b246df8f9039afb4144a1f6fd8d2ca17a180786b69acc140d282b71a49"
  },
  "kernelspec": {
   "display_name": "Python 3.9.10 64-bit",
   "language": "python",
   "name": "python3"
  },
  "language_info": {
   "name": "python",
   "version": "3.9.10"
  },
  "orig_nbformat": 4
 },
 "nbformat": 4,
 "nbformat_minor": 2
}
