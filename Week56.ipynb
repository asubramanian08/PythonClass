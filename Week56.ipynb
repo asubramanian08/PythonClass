{
 "cells": [
  {
   "attachments": {},
   "cell_type": "markdown",
   "metadata": {},
   "source": [
    "## Project: Comparing DNA\n",
    "\n",
    "Why do we use `row.copy()` to create the table?\n",
    "\n",
    "Talk about:\n",
    "- How bits are stored and can be compounded to represent numbers\n",
    "- Why lists are references to memory locations so if you reference one list in another list, you are referencing the same memory location"
   ]
  }
 ],
 "metadata": {
  "language_info": {
   "name": "python"
  },
  "orig_nbformat": 4
 },
 "nbformat": 4,
 "nbformat_minor": 2
}
