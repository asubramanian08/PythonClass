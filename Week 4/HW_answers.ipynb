{
 "cells": [
  {
   "cell_type": "code",
   "execution_count": null,
   "source": [
    "# check if a number is prime\n",
    "num = int(input(\"Enter a number: \"))\n",
    "is_prime = True\n",
    "for i in range(2, num):  # cleaner to start at 2\n",
    "    if num % i == 0:\n",
    "        is_prime = False\n",
    "        # could break but don't need to\n",
    "if is_prime:\n",
    "    print(\"The number entered is prime\")\n",
    "else:\n",
    "    print(\"The number entered is not prime\")"
   ],
   "outputs": [],
   "metadata": {}
  },
  {
   "cell_type": "code",
   "execution_count": null,
   "source": [
    "#replace vowels with #\n",
    "s = input('Enter a string: ')\n",
    "newS = ''\n",
    "vowels = 'aeiou'\n",
    "for ch in s:\n",
    "    if (ch in vowels):\n",
    "        newS += '#'\n",
    "    else:\n",
    "        newS += ch\n",
    "print('The new string: ' + newS)\n",
    "# or with replace\n",
    "s = input('Enter a string: ')\n",
    "vowels = 'aeiou'\n",
    "for ch in vowels:\n",
    "    s = s.replace(ch, '#')\n",
    "print('The new string: ' + newS)"
   ],
   "outputs": [],
   "metadata": {}
  },
  {
   "cell_type": "code",
   "execution_count": null,
   "source": [
    "# every other char in a string\n",
    "s = input('Enter a string: ')\n",
    "print('Every other letter is:', end=' ')\n",
    "for i in range(0, len(s), 2):\n",
    "    print(s[i], end='')\n",
    "print()"
   ],
   "outputs": [],
   "metadata": {}
  }
 ],
 "metadata": {
  "orig_nbformat": 4,
  "language_info": {
   "name": "python",
   "version": "3.9.1"
  },
  "kernelspec": {
   "name": "python3",
   "display_name": "Python 3.9.1 64-bit"
  },
  "interpreter": {
   "hash": "aee8b7b246df8f9039afb4144a1f6fd8d2ca17a180786b69acc140d282b71a49"
  }
 },
 "nbformat": 4,
 "nbformat_minor": 2
}