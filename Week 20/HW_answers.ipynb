{
 "cells": [
  {
   "cell_type": "code",
   "execution_count": null,
   "metadata": {},
   "outputs": [],
   "source": [
    "def less_arr(threshold, arr):\n",
    "    less = []\n",
    "    for i in arr:\n",
    "        if i < threshold:\n",
    "            less.append(i)\n",
    "    return less\n",
    "\n",
    "print(less_arr(7, [5, 2, 6, 7, 1, 0, 104, 130, 30, 1, 4, 7, -3, 7]))"
   ]
  },
  {
   "cell_type": "code",
   "execution_count": null,
   "metadata": {},
   "outputs": [],
   "source": [
    "def upwardPy(rows):\n",
    "    for i in range(rows):\n",
    "        for j in range(i + 1):\n",
    "            print(\"* \", end=\"\")\n",
    "        print()\n",
    "\n",
    "def downwardPy(rows):\n",
    "    for i in range(rows, 0, -1):\n",
    "        for j in range(i):\n",
    "            print(\"* \", end=\"\")\n",
    "        print()\n",
    "\n",
    "upwardPy(5)\n",
    "downwardPy(7)"
   ]
  }
 ],
 "metadata": {
  "interpreter": {
   "hash": "aee8b7b246df8f9039afb4144a1f6fd8d2ca17a180786b69acc140d282b71a49"
  },
  "kernelspec": {
   "display_name": "Python 3.9.1 64-bit",
   "language": "python",
   "name": "python3"
  },
  "language_info": {
   "codemirror_mode": {
    "name": "ipython",
    "version": 3
   },
   "file_extension": ".py",
   "mimetype": "text/x-python",
   "name": "python",
   "nbconvert_exporter": "python",
   "pygments_lexer": "ipython3",
   "version": "3.9.1"
  },
  "orig_nbformat": 4
 },
 "nbformat": 4,
 "nbformat_minor": 2
}
