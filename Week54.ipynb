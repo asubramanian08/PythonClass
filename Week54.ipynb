{
 "cells": [
  {
   "attachments": {},
   "cell_type": "markdown",
   "metadata": {},
   "source": [
    "## Project: Comparing DNA\n",
    "\n",
    "Finish step #3 of the project: Fill the first row / column of the table"
   ]
  },
  {
   "cell_type": "code",
   "execution_count": null,
   "metadata": {
    "vscode": {
     "languageId": "plaintext"
    }
   },
   "outputs": [],
   "source": [
    "for i in range(cols):\n",
    "    table[0][i] = i\n",
    "for i in range(rows):\n",
    "    table[i][0] = i"
   ]
  }
 ],
 "metadata": {
  "language_info": {
   "name": "python"
  },
  "orig_nbformat": 4
 },
 "nbformat": 4,
 "nbformat_minor": 2
}
