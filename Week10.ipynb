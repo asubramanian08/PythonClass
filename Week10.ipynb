{
 "cells": [
  {
   "cell_type": "markdown",
   "metadata": {},
   "source": [
    "## Programming Problems"
   ]
  },
  {
   "cell_type": "code",
   "execution_count": null,
   "metadata": {},
   "outputs": [],
   "source": [
    "\"\"\" insersion sort \"\"\"\n",
    "def insersionSort(arr):\n",
    "    for i in range(1, len(arr)):\n",
    "        for j in range(i, 0, -1):\n",
    "            if arr[j] < arr[j-1]:\n",
    "                temp = arr[j]\n",
    "                arr[j] = arr[j-1]\n",
    "                arr[j-1] = temp\n",
    "            else:\n",
    "                break\n",
    "    return arr\n",
    "\n",
    "arr = [3, 0, 1, 2, 5, 4]\n",
    "insersionSort(arr)\n",
    "print(arr)  # [0, 1, 2, 3, 4, 5]"
   ]
  },
  {
   "cell_type": "code",
   "execution_count": null,
   "metadata": {},
   "outputs": [],
   "source": [
    "\"\"\" intersection of two sorted arrays \"\"\"\n",
    "def intersection(arr1, arr2):\n",
    "    p1 = p2 = 0\n",
    "    interArr = []\n",
    "    while p1 < len(arr1) and p2 < len(arr2):\n",
    "        if arr1[p1] == arr2[p2]:\n",
    "            interArr.append(arr1[p1])\n",
    "        if arr1[p1] <= arr2[p2]:\n",
    "            p1 += 1\n",
    "        if arr1[p1] >= arr2[p2]:\n",
    "            p2 += 1\n",
    "    return interArr\n",
    "\n",
    "print(intersection([1, 3, 5, 7, 9], [1, 2, 4, 5, 7, 8]))  # [1, 5, 7]"
   ]
  }
 ],
 "metadata": {
  "interpreter": {
   "hash": "aee8b7b246df8f9039afb4144a1f6fd8d2ca17a180786b69acc140d282b71a49"
  },
  "kernelspec": {
   "display_name": "Python 3.9.1 64-bit",
   "name": "python3"
  },
  "language_info": {
   "codemirror_mode": {
    "name": "ipython",
    "version": 3
   },
   "file_extension": ".py",
   "mimetype": "text/x-python",
   "name": "python",
   "nbconvert_exporter": "python",
   "pygments_lexer": "ipython3",
   "version": "3.9.10"
  },
  "orig_nbformat": 4
 },
 "nbformat": 4,
 "nbformat_minor": 2
}
