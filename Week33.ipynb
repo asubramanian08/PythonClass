{
 "cells": [
  {
   "cell_type": "markdown",
   "metadata": {},
   "source": [
    "## Programming Problem\n",
    "\n",
    "Continue with the previous [USACO problem](http://usaco.org/index.php?page=viewproblem2&cpid=1180).\n",
    "\n",
    "Finish the `iscycle(A, B, C)` function that checks whether dice `A`, `B`, and `C` form a cycle. A cycle is formed if no two dice tie and no dice beats the other two.\n",
    "\n",
    "NOTE: I didn't implement the `iscycle(A, B, C)` function in my original solution. The implementation is below."
   ]
  },
  {
   "cell_type": "code",
   "execution_count": null,
   "metadata": {},
   "outputs": [],
   "source": [
    "# NOTE: beats(A, B) function is not implemented here\n",
    "\n",
    "def iscycle(A, B, C):\n",
    "    \"\"\"Assumes that A beats B. This establishes an order so we don't have to test\n",
    "    cycles going two ways. This function tests what that B->C and C->A. \"\"\"\n",
    "    return beats(B, C) > 0 and beats(C, A) > 0"
   ]
  }
 ],
 "metadata": {
  "interpreter": {
   "hash": "aee8b7b246df8f9039afb4144a1f6fd8d2ca17a180786b69acc140d282b71a49"
  },
  "kernelspec": {
   "display_name": "Python 3.9.10 64-bit",
   "language": "python",
   "name": "python3"
  },
  "language_info": {
   "codemirror_mode": {
    "name": "ipython",
    "version": 3
   },
   "file_extension": ".py",
   "mimetype": "text/x-python",
   "name": "python",
   "nbconvert_exporter": "python",
   "pygments_lexer": "ipython3",
   "version": "3.9.10"
  },
  "orig_nbformat": 4
 },
 "nbformat": 4,
 "nbformat_minor": 2
}
