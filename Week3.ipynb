{
 "cells": [
  {
   "cell_type": "markdown",
   "metadata": {},
   "source": [
    "## Warm-up examples"
   ]
  },
  {
   "cell_type": "code",
   "execution_count": null,
   "metadata": {},
   "outputs": [],
   "source": [
    "\"\"\" greater number \"\"\"\n",
    "num1 = int(input(\"Enter a number: \"))\n",
    "num2 = int(input(\"Enter a second number: \"))\n",
    "if(num1 > num2):\n",
    "    print(\"the first number is greater\")\n",
    "elif (num1 < num2):\n",
    "    print(\"the second number is greater\")\n",
    "else:\n",
    "    print(\"the two numbers are the same\")"
   ]
  },
  {
   "cell_type": "code",
   "execution_count": null,
   "metadata": {},
   "outputs": [],
   "source": [
    "\"\"\" sum of numbers less then the reference \"\"\"\n",
    "ref = 10\n",
    "s = 0\n",
    "for i in range(10):\n",
    "    res = int(input(\"Enter a number: \"))\n",
    "    if res == ref:\n",
    "        break\n",
    "    if res < ref:\n",
    "        s += res\n",
    "print(\"The sum of the numbers less then\", ref, \"is\", s)"
   ]
  },
  {
   "cell_type": "markdown",
   "metadata": {},
   "source": [
    "## Lesson: Functions\n",
    "\n",
    "Review [this](https://www.w3schools.com/python/python_functions.asp) packet about python functions.\n",
    "\n",
    "Related problems:\n",
    "* Fizzbuzz: Print numbers from 1-100 unless\n",
    "    * %3 -> Fizz\n",
    "    * %5 -> Buzz\n",
    "    * %15 or (%3 and %5) -> FizzBuzz\n",
    "* Integer exponent calculator"
   ]
  },
  {
   "cell_type": "markdown",
   "metadata": {},
   "source": [
    "## Programming Problems"
   ]
  },
  {
   "cell_type": "code",
   "execution_count": null,
   "metadata": {},
   "outputs": [],
   "source": [
    "\"\"\" add x + ... + 1 (order of addition matters) \"\"\"\n",
    "def addDown(x):\n",
    "    ans = 0\n",
    "    for i in range(x, 0, -1):\n",
    "        ans += i\n",
    "    return ans"
   ]
  },
  {
   "cell_type": "code",
   "execution_count": null,
   "metadata": {},
   "outputs": [],
   "source": [
    "\"\"\" count even numbers \"\"\"\n",
    "num = 1\n",
    "count = 0\n",
    "while num != 0:\n",
    "    num = int(input(\"Enter a number: \"))\n",
    "    if num % 2 == 0:\n",
    "        count = count + 1\n",
    "print('The number of even numbers entered is', count)"
   ]
  }
 ],
 "metadata": {
  "interpreter": {
   "hash": "aee8b7b246df8f9039afb4144a1f6fd8d2ca17a180786b69acc140d282b71a49"
  },
  "kernelspec": {
   "display_name": "Python 3.9.10 64-bit",
   "language": "python",
   "name": "python3"
  },
  "language_info": {
   "name": "python",
   "version": "3.9.10"
  },
  "orig_nbformat": 4
 },
 "nbformat": 4,
 "nbformat_minor": 2
}
