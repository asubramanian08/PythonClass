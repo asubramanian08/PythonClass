{
 "cells": [
  {
   "cell_type": "code",
   "execution_count": null,
   "metadata": {},
   "outputs": [],
   "source": [
    "def timesTables(x):\n",
    "    intLen = len(str(x*x))\n",
    "    for i in range(x+1):\n",
    "        for j in range(x+1):\n",
    "            print(str(i*j).ljust(intLen), end=' ')\n",
    "        print()\n",
    "\n",
    "timesTables(10)"
   ]
  },
  {
   "cell_type": "code",
   "execution_count": null,
   "metadata": {},
   "outputs": [],
   "source": [
    "def sumEvenOdd(arr):\n",
    "    evens = odds = 0\n",
    "    for i in arr:\n",
    "        if i % 2:\n",
    "            odds += i\n",
    "        else:\n",
    "            evens += i\n",
    "    return odds, evens\n",
    "\n",
    "print(sumEvenOdd([4, 2, 845, 237, -245, -56, 1-4, 35, 168, 3]))  # (872, 118)"
   ]
  }
 ],
 "metadata": {
  "interpreter": {
   "hash": "aee8b7b246df8f9039afb4144a1f6fd8d2ca17a180786b69acc140d282b71a49"
  },
  "kernelspec": {
   "display_name": "Python 3.9.1 64-bit",
   "language": "python",
   "name": "python3"
  },
  "language_info": {
   "codemirror_mode": {
    "name": "ipython",
    "version": 3
   },
   "file_extension": ".py",
   "mimetype": "text/x-python",
   "name": "python",
   "nbconvert_exporter": "python",
   "pygments_lexer": "ipython3",
   "version": "3.9.1"
  },
  "orig_nbformat": 4
 },
 "nbformat": 4,
 "nbformat_minor": 2
}
