{
 "cells": [
  {
   "cell_type": "markdown",
   "metadata": {},
   "source": [
    "### Project: Tic-Tac-Toe alpha beta pruning\n",
    "\n",
    "Understand how the tic-tac-toe algorithm can be sped up by ignoring certain cases. This is that case:\n",
    "- When you already have a move you can make with a know success rate\n",
    "- You are testing a new move and there is another move that is really good, specifically it is worse for you than the other move option that you have.\n",
    "- In this case you no longer need to investigate the new move because the opponent will have a really good move in response to it that will make this new move worse then the one you already have\n",
    "\n",
    "Discuss what parameters needed to be added to the current `bestMove` function in order to do alpha-beta pruning.\n",
    "\n",
    "Note that: For tic-tac-toe since its so simple there really isn't a point to alpha-beta pruning but this can be useful for other 2 player games like connect 4 or chess."
   ]
  }
 ],
 "metadata": {
  "language_info": {
   "name": "python"
  },
  "orig_nbformat": 4
 },
 "nbformat": 4,
 "nbformat_minor": 2
}
