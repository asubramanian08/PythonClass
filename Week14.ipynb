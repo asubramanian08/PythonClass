{
 "cells": [
  {
   "cell_type": "markdown",
   "metadata": {},
   "source": [
    "## Lecture: Mergesort\n",
    "\n",
    "Review how to merge function work and touch on time complexity.\n",
    "\n",
    "Explain how mergesort works using the merge function.\n",
    "* Split an array in half recursively\n",
    "* Call mergesort on both halves\n",
    "* Merge the halves with the merge function\n",
    "* Don't forget about the base case"
   ]
  },
  {
   "cell_type": "markdown",
   "metadata": {},
   "source": [
    "## Programming Project"
   ]
  },
  {
   "cell_type": "code",
   "execution_count": null,
   "metadata": {},
   "outputs": [],
   "source": [
    "def merge(arr1, arr2):\n",
    "    \"\"\" arr1 and arr2 are two sorted arrays.\n",
    "    Return a sorted array will all elements from arr1 and arr2. \"\"\"\n",
    "    p1 = p2 = 0\n",
    "    res = []\n",
    "    while p1 < len(arr1) or p2 < len(arr2):\n",
    "        if p1 < len(arr1) and (p2 == len(arr2) or arr1[p1] <= arr2[p2]):\n",
    "            res.append(arr1[p1])\n",
    "            p1 += 1\n",
    "        else:\n",
    "            res.append(arr2[p2])\n",
    "            p2 += 1\n",
    "    return res\n",
    "\n",
    "def mergesort(arr):\n",
    "    \"\"\" sort an array using the merge function. \"\"\"\n",
    "    if len(arr) == 1:\n",
    "        return arr\n",
    "    end = int(len(arr)/2)\n",
    "    arr1 = mergesort(arr[:end])\n",
    "    arr2 = mergesort(arr[end:])\n",
    "    return merge(arr1, arr2)\n",
    "\n",
    "\n",
    "# [-1, 0, 1, 2, 2, 2, 3, 4, 4, 5, 6, 7, 8]\n",
    "print(mergesort([4, 3, 5, 2, 6, 7, 8, 1, -1, 0, 4, 2, 2]))"
   ]
  }
 ],
 "metadata": {
  "interpreter": {
   "hash": "aee8b7b246df8f9039afb4144a1f6fd8d2ca17a180786b69acc140d282b71a49"
  },
  "kernelspec": {
   "display_name": "Python 3.9.10 64-bit",
   "language": "python",
   "name": "python3"
  },
  "language_info": {
   "name": "python",
   "version": "3.9.10"
  },
  "orig_nbformat": 4
 },
 "nbformat": 4,
 "nbformat_minor": 2
}
