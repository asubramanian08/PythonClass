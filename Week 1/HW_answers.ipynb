{
 "cells": [
  {
   "cell_type": "code",
   "execution_count": null,
   "source": [
    "def pyramid(x):  # pyramid with x rows\n",
    "    for i in range(1, x + 1):\n",
    "        print((x - i) * ' ', end='')\n",
    "        print(i * '* ')\n",
    "\n",
    "pyramid(3)"
   ],
   "outputs": [],
   "metadata": {}
  },
  {
   "cell_type": "code",
   "execution_count": null,
   "source": [
    "def cumulativeInfo(arr):  # Sum, Max, Avg of an array\n",
    "    s = m = a = 0.0\n",
    "    for ele in arr:\n",
    "        m = max(m, ele)\n",
    "        s += ele\n",
    "    a = s / len(arr)\n",
    "    print('Sum =', s)\n",
    "    print('Max =', m)\n",
    "    print('Avg =', a)\n",
    "\n",
    "cumulativeInfo([4, 53, 3.03, 8, -1, True, -4.2])"
   ],
   "outputs": [],
   "metadata": {}
  }
 ],
 "metadata": {
  "orig_nbformat": 4,
  "language_info": {
   "name": "python",
   "version": "3.9.1"
  },
  "kernelspec": {
   "name": "python3",
   "display_name": "Python 3.9.1 64-bit"
  },
  "interpreter": {
   "hash": "aee8b7b246df8f9039afb4144a1f6fd8d2ca17a180786b69acc140d282b71a49"
  }
 },
 "nbformat": 4,
 "nbformat_minor": 2
}