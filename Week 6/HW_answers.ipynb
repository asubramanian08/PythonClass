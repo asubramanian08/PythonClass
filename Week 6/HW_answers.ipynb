{
 "cells": [
  {
   "cell_type": "code",
   "execution_count": null,
   "source": [
    "# GCD - method 1\n",
    "def GCD(x, y):\n",
    "    gcd = 1\n",
    "    for i in range(1, min(x, y)):  # could pick one\n",
    "        if x % i == 0 and y % i == 0:\n",
    "            gcd = i\n",
    "    return gcd\n",
    "\n",
    "print(GCD(6, 8))  # should be 2"
   ],
   "outputs": [],
   "metadata": {}
  },
  {
   "cell_type": "code",
   "execution_count": null,
   "source": [
    "# GCD - method 2\n",
    "def GCD(x, y):\n",
    "    while y != 0:\n",
    "        temp = y\n",
    "        y = x % y\n",
    "        x = temp\n",
    "    return x\n",
    "\n",
    "print(GCD(6, 8))  # should be 2"
   ],
   "outputs": [],
   "metadata": {}
  },
  {
   "cell_type": "code",
   "execution_count": null,
   "source": [
    "# nth fibonacci number\n",
    "def fibonacci(x):\n",
    "    return x if x <= 1 else fibonacci(x - 1) + fibonacci(x - 2)\n",
    "\n",
    "#sequence goes 0, 1, 1, 2, 3, 5, ...\n",
    "print(fibonacci(4)) # should be 3"
   ],
   "outputs": [],
   "metadata": {}
  },
  {
   "cell_type": "code",
   "execution_count": 14,
   "source": [
    "# sqare root of a number\n",
    "def sqrt(x):\n",
    "    digit = 1.0\n",
    "    # find first digit\n",
    "    while x % digit >= 10.0:\n",
    "        digit *= 10.0\n",
    "    ans = 0\n",
    "    # add at each digit until highest\n",
    "    while digit > pow(0.1, 6):\n",
    "        for i in range(10):\n",
    "            ans += digit\n",
    "            if ans * ans > x:\n",
    "                ans -= digit\n",
    "                break\n",
    "        digit /= 10.0\n",
    "    # NOTE: this solution doesn't round\n",
    "    return ans\n",
    "\n",
    "print(sqrt(4))  # should be 2\n",
    "print(sqrt(2))  # should be 1.41421"
   ],
   "outputs": [
    {
     "output_type": "stream",
     "name": "stdout",
     "text": [
      "2.0\n",
      "1.41421\n"
     ]
    }
   ],
   "metadata": {}
  }
 ],
 "metadata": {
  "orig_nbformat": 4,
  "language_info": {
   "name": "python",
   "version": "3.9.1",
   "mimetype": "text/x-python",
   "codemirror_mode": {
    "name": "ipython",
    "version": 3
   },
   "pygments_lexer": "ipython3",
   "nbconvert_exporter": "python",
   "file_extension": ".py"
  },
  "kernelspec": {
   "name": "python3",
   "display_name": "Python 3.9.1 64-bit"
  },
  "interpreter": {
   "hash": "aee8b7b246df8f9039afb4144a1f6fd8d2ca17a180786b69acc140d282b71a49"
  }
 },
 "nbformat": 4,
 "nbformat_minor": 2
}