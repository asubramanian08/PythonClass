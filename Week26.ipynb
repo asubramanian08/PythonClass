{
 "cells": [
  {
   "cell_type": "markdown",
   "metadata": {},
   "source": [
    "## Programming Project"
   ]
  },
  {
   "cell_type": "code",
   "execution_count": null,
   "metadata": {},
   "outputs": [],
   "source": [
    "\"\"\" The difference between a linear and binary search on a sorted array \"\"\"\n",
    "\n",
    "def linearContains(arr, x):\n",
    "    \"\"\" Linearly search through the array for x \"\"\"\n",
    "    for i in arr:\n",
    "        if i == x:\n",
    "            return True\n",
    "    return False\n",
    "\n",
    "def addBack(arr, x):\n",
    "    \"\"\" Only add elements that will keep the array sorted \"\"\"\n",
    "    if len(arr) == 0 or arr[len(arr) - 1] <= x:\n",
    "        arr.append(x)\n",
    "\n",
    "def binaryContains(arr, x):\n",
    "    \"\"\" Binary search for x in the array. \"\"\"\n",
    "    lo = 0\n",
    "    hi = len(arr) - 1\n",
    "    while (lo <= hi):\n",
    "        mid = int((lo + hi) / 2)\n",
    "        if arr[mid] < x:\n",
    "            lo = mid + 1\n",
    "        elif arr[mid] > x:\n",
    "            hi = mid - 1\n",
    "        else:\n",
    "            return True\n",
    "    return False\n",
    "\n",
    "# Testing\n",
    "arr = []\n",
    "print(\"arr:\", arr)\n",
    "print(\"Contains 4:\", linearContains(arr, 4))\n",
    "print(\"Adding 7\")\n",
    "addBack(arr, 7)\n",
    "print(\"Contains 7:\", linearContains(arr, 7))\n",
    "print(\"Adding -1\")\n",
    "addBack(arr, -1)\n",
    "print(\"Contains -1:\", linearContains(arr, -1))\n",
    "print(\"arr:\", arr)\n",
    "print(\"Length:\", len(arr))\n",
    "print(\"Adding 10, -11, 12\")\n",
    "addBack(arr, 10)\n",
    "addBack(arr, -11)\n",
    "addBack(arr, 12)\n",
    "print(\"arr:\", arr)\n",
    "print(\"Contains 20:\", linearContains(arr, 20))\n",
    "print(\"Length:\", len(arr))\n",
    "print(\"arr:\", arr)"
   ]
  }
 ],
 "metadata": {
  "interpreter": {
   "hash": "aee8b7b246df8f9039afb4144a1f6fd8d2ca17a180786b69acc140d282b71a49"
  },
  "kernelspec": {
   "display_name": "Python 3.9.10 64-bit",
   "language": "python",
   "name": "python3"
  },
  "language_info": {
   "name": "python",
   "version": "3.9.10"
  },
  "orig_nbformat": 4
 },
 "nbformat": 4,
 "nbformat_minor": 2
}
