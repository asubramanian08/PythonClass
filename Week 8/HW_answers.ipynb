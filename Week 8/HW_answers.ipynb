{
 "cells": [
  {
   "cell_type": "code",
   "execution_count": null,
   "source": [
    "# exponents v2\n",
    "def exponent(a, b):\n",
    "    if b <= 0:\n",
    "        return 1\n",
    "    halfEx = exponent(a, int(b/2))  # will find floor\n",
    "    return halfEx * halfEx * (1 if b % 2 == 0 else a)\n",
    "\n",
    "print(exponent(2, 4))  # 16\n",
    "print(exponent(2, 5))  # 32"
   ],
   "outputs": [],
   "metadata": {}
  },
  {
   "cell_type": "code",
   "execution_count": null,
   "source": [
    "# Selection sort\n",
    "def ssort(arr, len):\n",
    "    if len <= 1:\n",
    "        return\n",
    "    largest = 0\n",
    "    for i in range(len):\n",
    "        if arr[i] > arr[largest]:\n",
    "            largest = i\n",
    "    temp = arr[len-1]\n",
    "    arr[len-1] = arr[largest]\n",
    "    arr[largest] = temp\n",
    "    ssort(arr, len-1)\n",
    "\n",
    "arr = [0, -1, 4.3, 200, 45, 8, 2]\n",
    "ssort(arr, len(arr))\n",
    "print(arr)  # [-1, 0, 2, 4.3, 8, 45, 200]"
   ],
   "outputs": [],
   "metadata": {}
  }
 ],
 "metadata": {
  "orig_nbformat": 4,
  "language_info": {
   "name": "python",
   "version": "3.9.1",
   "mimetype": "text/x-python",
   "codemirror_mode": {
    "name": "ipython",
    "version": 3
   },
   "pygments_lexer": "ipython3",
   "nbconvert_exporter": "python",
   "file_extension": ".py"
  },
  "kernelspec": {
   "name": "python3",
   "display_name": "Python 3.9.1 64-bit"
  },
  "interpreter": {
   "hash": "aee8b7b246df8f9039afb4144a1f6fd8d2ca17a180786b69acc140d282b71a49"
  }
 },
 "nbformat": 4,
 "nbformat_minor": 2
}