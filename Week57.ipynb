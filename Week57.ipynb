{
 "cells": [
  {
   "attachments": {},
   "cell_type": "markdown",
   "metadata": {},
   "source": [
    "## Project: Comparing DNA\n",
    "\n",
    "Touch on the concept of mutability. Lists are mutable, strings are immutable.\n",
    "\n",
    "Write down steps for how to code step 4. Write down general notes about the comparison of DNA problem."
   ]
  }
 ],
 "metadata": {
  "language_info": {
   "name": "python"
  },
  "orig_nbformat": 4
 },
 "nbformat": 4,
 "nbformat_minor": 2
}
