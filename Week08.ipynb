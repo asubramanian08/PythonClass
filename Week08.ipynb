{
 "cells": [
  {
   "cell_type": "markdown",
   "metadata": {},
   "source": [
    "## Programming Problems"
   ]
  },
  {
   "cell_type": "code",
   "execution_count": null,
   "metadata": {},
   "outputs": [],
   "source": [
    "\"\"\" Exponents v2: a^x = a^(x/2) * a^(x/2) \"\"\"\n",
    "def exponent(a, b):\n",
    "    if b <= 0:\n",
    "        return 1\n",
    "    halfEx = exponent(a, int(b/2))  # will find floor\n",
    "    return halfEx * halfEx * (1 if b % 2 == 0 else a)\n",
    "\n",
    "print(exponent(2, 4))  # 16\n",
    "print(exponent(2, 5))  # 32"
   ]
  },
  {
   "cell_type": "code",
   "execution_count": null,
   "metadata": {},
   "outputs": [],
   "source": [
    "\"\"\" Selection sort \"\"\"\n",
    "def ssort(arr, len):\n",
    "    if len <= 1:\n",
    "        return\n",
    "    largest = 0\n",
    "    for i in range(len):\n",
    "        if arr[i] > arr[largest]:\n",
    "            largest = i\n",
    "    temp = arr[len-1]\n",
    "    arr[len-1] = arr[largest]\n",
    "    arr[largest] = temp\n",
    "    ssort(arr, len-1)\n",
    "\n",
    "arr = [0, -1, 4.3, 200, 45, 8, 2]\n",
    "ssort(arr, len(arr))\n",
    "print(arr)  # [-1, 0, 2, 4.3, 8, 45, 200]"
   ]
  }
 ],
 "metadata": {
  "interpreter": {
   "hash": "aee8b7b246df8f9039afb4144a1f6fd8d2ca17a180786b69acc140d282b71a49"
  },
  "kernelspec": {
   "display_name": "Python 3.9.1 64-bit",
   "name": "python3"
  },
  "language_info": {
   "codemirror_mode": {
    "name": "ipython",
    "version": 3
   },
   "file_extension": ".py",
   "mimetype": "text/x-python",
   "name": "python",
   "nbconvert_exporter": "python",
   "pygments_lexer": "ipython3",
   "version": "3.9.10"
  },
  "orig_nbformat": 4
 },
 "nbformat": 4,
 "nbformat_minor": 2
}
