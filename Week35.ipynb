{
 "cells": [
  {
   "cell_type": "markdown",
   "metadata": {},
   "source": [
    "## Programming Problem\n",
    "\n",
    "Continue with the previous [USACO problem](http://usaco.org/index.php?page=viewproblem2&cpid=1180).\n",
    "\n",
    "Recap the question:\n",
    "* What the questions is asking\n",
    "* How to solve it\n",
    "\n",
    "Swapping `A` and `B` if `beats(A, B) > 0` lets us not deal with two different non-transitive cycle cases."
   ]
  }
 ],
 "metadata": {
  "language_info": {
   "name": "python"
  },
  "orig_nbformat": 4
 },
 "nbformat": 4,
 "nbformat_minor": 2
}
