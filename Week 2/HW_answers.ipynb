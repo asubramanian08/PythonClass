{
 "cells": [
  {
   "cell_type": "code",
   "execution_count": null,
   "source": [
    "# rock, paper, scissors\n",
    "import random\n",
    "computer = 0\n",
    "user = 0\n",
    "options = ['rock', 'paper', 'scissors']\n",
    "while computer == user:\n",
    "    computer = random.randint(0, 2)\n",
    "    user = int(input('Enter 0-' + options[0]\n",
    "                     + ', 1-' + options[1]\n",
    "                     + ',or 2-' + options[2] + ': '))\n",
    "    if user > 2 or user < 0:\n",
    "        user = computer\n",
    "        continue\n",
    "    if (computer + 1) % 3 == user:\n",
    "        print('You won!', end=' ')\n",
    "    elif (user + 1) % 3 == computer:\n",
    "        print('You lost!', end=' ')\n",
    "    else:\n",
    "        print('Its a tie, try again', end=' ')\n",
    "    print('You entered ' + options[user] +\n",
    "          ', The computer picked ' + options[computer])\n",
    "print('Game finished\\n')"
   ],
   "outputs": [],
   "metadata": {}
  },
  {
   "cell_type": "code",
   "execution_count": null,
   "source": [
    "# count digits\n",
    "num = int(input('Enter a large number: '))\n",
    "digits = 0\n",
    "while num > 0:\n",
    "    num //= 10\n",
    "    #num = int(num / 10)\n",
    "    digits += 1\n",
    "print('You number has', digits, 'digits')"
   ],
   "outputs": [],
   "metadata": {}
  }
 ],
 "metadata": {
  "orig_nbformat": 4,
  "language_info": {
   "name": "python"
  }
 },
 "nbformat": 4,
 "nbformat_minor": 2
}