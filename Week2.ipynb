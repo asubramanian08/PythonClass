{
 "cells": [
  {
   "cell_type": "markdown",
   "metadata": {},
   "source": [
    "## Recap\n",
    "\n",
    "Briefly review previous day's lesson.\n",
    "\n",
    "The focus is how to use range."
   ]
  },
  {
   "cell_type": "markdown",
   "metadata": {},
   "source": [
    "## Lesson: flow control\n",
    "\n",
    "if / logic / pass: https://www.w3schools.com/python/python_conditions.asp\n",
    "\n",
    "break / continue: https://www.w3schools.com/python/python_while_loops.asp"
   ]
  },
  {
   "cell_type": "markdown",
   "metadata": {},
   "source": [
    "## Flow control examples"
   ]
  },
  {
   "cell_type": "code",
   "execution_count": null,
   "metadata": {},
   "outputs": [],
   "source": [
    "\"\"\" If statements: Check a number's sign (+/-/0) \"\"\"\n",
    "num = int(input(\"Enter a number: \"))\n",
    "if num > 0:\n",
    "    print(\"positive\")\n",
    "elif num < 0:\n",
    "    print(\"negative\")\n",
    "else:\n",
    "    print(\"zero\")"
   ]
  },
  {
   "cell_type": "code",
   "execution_count": null,
   "metadata": {},
   "outputs": [],
   "source": [
    "\"\"\" Logic statements (and, or): Can or cannot buy ps5 \"\"\"\n",
    "ps5_cost = 500\n",
    "ps5_available = False\n",
    "wallet = 200  # i'm broke :(\n",
    "momPays = True\n",
    "if ps5_available and (ps5_cost < wallet or momPays):\n",
    "    print(\"Can buy ps5\")\n",
    "else:\n",
    "    print(\"Can't buy ps5\")"
   ]
  },
  {
   "cell_type": "code",
   "execution_count": null,
   "metadata": {},
   "outputs": [],
   "source": [
    "\"\"\" break and continue: when a '0' is found \"\"\"\n",
    "s = \"Hi0 m0y0 0n0am0e0 is0 0Bo0b0\"\n",
    "for ch in s:\n",
    "    if ch == '0':\n",
    "        break\n",
    "    print(ch, end='')\n",
    "print()\n",
    "for ch in s:\n",
    "    if ch == '0':\n",
    "        continue\n",
    "    print(ch, end='')\n",
    "print()"
   ]
  },
  {
   "cell_type": "code",
   "execution_count": null,
   "metadata": {},
   "outputs": [],
   "source": [
    "\"\"\" pass: when a '0' is found \"\"\"\n",
    "# Similar to previous cell\n",
    "s = \"Hi0 m0y0 0n0am0e0 is0 0Bo0b0\"\n",
    "for ch in s:\n",
    "    if ch == '0':\n",
    "        pass\n",
    "    else:\n",
    "        print(ch, end='')"
   ]
  },
  {
   "cell_type": "markdown",
   "metadata": {},
   "source": [
    "## Programming Problems"
   ]
  },
  {
   "cell_type": "code",
   "execution_count": null,
   "metadata": {},
   "outputs": [],
   "source": [
    "\"\"\" rock, paper, scissors \"\"\"\n",
    "import random\n",
    "computer = 0\n",
    "user = 0\n",
    "options = ['rock', 'paper', 'scissors']\n",
    "while computer == user:\n",
    "    computer = random.randint(0, 2)\n",
    "    user = int(input('Enter 0-' + options[0]\n",
    "                     + ', 1-' + options[1]\n",
    "                     + ',or 2-' + options[2] + ': '))\n",
    "    if user > 2 or user < 0:\n",
    "        user = computer\n",
    "        continue\n",
    "    if (computer + 1) % 3 == user:\n",
    "        print('You won!', end=' ')\n",
    "    elif (user + 1) % 3 == computer:\n",
    "        print('You lost!', end=' ')\n",
    "    else:\n",
    "        print('Its a tie, try again', end=' ')\n",
    "    print('You entered ' + options[user] +\n",
    "          ', The computer picked ' + options[computer])\n",
    "print('Game finished\\n')"
   ]
  },
  {
   "cell_type": "code",
   "execution_count": null,
   "metadata": {},
   "outputs": [],
   "source": [
    "\"\"\" count the number of digits in a large number \"\"\"\n",
    "num = int(input('Enter a large number: '))\n",
    "digits = 0\n",
    "while num > 0:\n",
    "    num //= 10\n",
    "    #num = int(num / 10)\n",
    "    digits += 1\n",
    "print('You number has', digits, 'digits')"
   ]
  },
  {
   "cell_type": "markdown",
   "metadata": {},
   "source": [
    "## Big Take Away: Understand every line of a program"
   ]
  }
 ],
 "metadata": {
  "interpreter": {
   "hash": "aee8b7b246df8f9039afb4144a1f6fd8d2ca17a180786b69acc140d282b71a49"
  },
  "kernelspec": {
   "display_name": "Python 3.9.10 64-bit",
   "language": "python",
   "name": "python3"
  },
  "language_info": {
   "name": "python",
   "version": "3.9.10"
  },
  "orig_nbformat": 4
 },
 "nbformat": 4,
 "nbformat_minor": 2
}
