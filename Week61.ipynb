{
 "cells": [
  {
   "attachments": {},
   "cell_type": "markdown",
   "metadata": {},
   "source": [
    "## Project Minimax:\n",
    "\n",
    "Determine what the best move is by recursively calling the \"bestMove\" function. Note to change to value of the board, call best move, then revert the move."
   ]
  }
 ],
 "metadata": {
  "language_info": {
   "name": "python"
  },
  "orig_nbformat": 4
 },
 "nbformat": 4,
 "nbformat_minor": 2
}
