{
 "cells": [
  {
   "cell_type": "markdown",
   "metadata": {},
   "source": [
    "### What is USACO\n",
    "\n",
    "USACO is a programming competition that many highschool and collage students take.\n",
    "\n",
    "They give 3-4 problems in a contest with a 3-5 hours time limit for all problems.\n",
    "\n",
    "If pass a test you get promoted to the next division (bronze, silver, gold, platinum).\n",
    "\n",
    "I will start you out with problems in the bronze division, keep in mind these problems are hard.\n",
    "\n",
    "Side note: I moderated a discussion with the director of USACO (Brian Dean). Read more about it on my github Storming Robots [USACO-Group page](https://github.com/asubramanian08/StormingRobots/blob/master/USACO-Group.md)."
   ]
  },
  {
   "cell_type": "markdown",
   "metadata": {},
   "source": [
    "### Programming Problem\n",
    "\n",
    "USACO January 2022 Bronze [problem two](http://usaco.org/index.php?page=viewproblem2&cpid=1180)\n",
    "\n",
    "Think about what the problem is asking, break it down\n",
    "\n",
    "The first step is determining which dice wins.\n",
    "1. Count the number of ways dice A wins.\n",
    "2. Count the number of ways dice B wins.\n",
    "3. Whoever have a larger value is the winner. If both win the same number of times, that dice are tied."
   ]
  },
  {
   "cell_type": "code",
   "execution_count": null,
   "metadata": {},
   "outputs": [],
   "source": [
    "\"\"\" Python solution to USACO January 2022 Bronze problem two\n",
    "Translated into python from my c++ solution. Below is the link to my original code.\n",
    "https://github.com/asubramanian08/USACO/blob/master/Bronze/2021-2022/JAN2022/q2.cpp \"\"\"\n",
    "\n",
    "SIDES = 4\n",
    "MIN_FACE = 1\n",
    "MAX_FACE = 10\n",
    "\n",
    "def beats(A, B):\n",
    "    \"\"\" Determine if A won, B won, or it is a tie: (>0, <0, 0 respectively).\n",
    "    Modified from the c++ version to match the programming problem explanation. \"\"\"\n",
    "    aWins = bWins = 0\n",
    "    for i in range(SIDES):\n",
    "        for j in range(SIDES):\n",
    "            aWins += A[i] > B[j]\n",
    "            bWins += A[i] < B[j]\n",
    "    return aWins - bWins\n",
    "\n",
    "C = [0, 0, 0, 0]  # Using 0 as place holder\n",
    "for test in range(int(input())):\n",
    "    diceFaces = list(map(int, input().split(' ')))\n",
    "    A = diceFaces[:SIDES]\n",
    "    B = diceFaces[SIDES:]\n",
    "    foundAnswer = False\n",
    "    winner = beats(A, B)\n",
    "    if winner == 0:  # Tie\n",
    "        foundAnswer = True\n",
    "    elif winner < 0:  # B won\n",
    "        A, B = B, A\n",
    "    for C[0] in range(MIN_FACE, MAX_FACE + 1, 1):\n",
    "        for C[1] in range(MIN_FACE, MAX_FACE + 1, 1):\n",
    "            for C[2] in range(MIN_FACE, MAX_FACE + 1, 1):\n",
    "                for C[3] in range(MIN_FACE, MAX_FACE + 1, 1):\n",
    "                    if beats(C, A) > 0 and beats(B, C) > 0:\n",
    "                        foundAnswer = True  # Cycle found\n",
    "    print(\"yes\" if (winner != 0 and foundAnswer) else \"no\")"
   ]
  }
 ],
 "metadata": {
  "interpreter": {
   "hash": "aee8b7b246df8f9039afb4144a1f6fd8d2ca17a180786b69acc140d282b71a49"
  },
  "kernelspec": {
   "display_name": "Python 3.9.10 64-bit",
   "language": "python",
   "name": "python3"
  },
  "language_info": {
   "name": "python",
   "version": "3.9.10"
  },
  "orig_nbformat": 4
 },
 "nbformat": 4,
 "nbformat_minor": 2
}
