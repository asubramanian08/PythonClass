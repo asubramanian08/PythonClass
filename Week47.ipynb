{
 "cells": [
  {
   "cell_type": "markdown",
   "metadata": {},
   "source": [
    "## Project: TicTacToe with Turtle (Section 1)\n",
    "\n",
    "Complete the sections one sections from last week.\n",
    "\n",
    "Discuss how to store the underlying data structure for the game:\n",
    "* Store the board as a list of 9 element (Either filled with X or O or empty)\n",
    "* Store the actual locations of the squares on the board (To draw the X and O)\n",
    "* Continually update the board as the game progresses - also check for a winner/tie"
   ]
  }
 ],
 "metadata": {
  "kernelspec": {
   "display_name": "Python 3.10.6 64-bit",
   "language": "python",
   "name": "python3"
  },
  "language_info": {
   "name": "python",
   "version": "3.10.6"
  },
  "orig_nbformat": 4,
  "vscode": {
   "interpreter": {
    "hash": "aee8b7b246df8f9039afb4144a1f6fd8d2ca17a180786b69acc140d282b71a49"
   }
  }
 },
 "nbformat": 4,
 "nbformat_minor": 2
}
