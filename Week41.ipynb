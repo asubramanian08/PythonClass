{
 "cells": [
  {
   "cell_type": "markdown",
   "metadata": {},
   "source": [
    "# Lecture: Lists\n",
    "\n",
    "Talk about what a list does and how important it is in programming.\n",
    "\n",
    "Go over the must important functions of a list:\n",
    "* Access memory: `arr[i]`\n",
    "* Append: `arr.append(x)`\n",
    "* Pop: `arr.pop(-1)`\n",
    "* Length: `len(arr)`\n",
    "\n",
    "Move on the the programming problems for the day."
   ]
  },
  {
   "cell_type": "markdown",
   "metadata": {},
   "source": [
    "# Programming Problems"
   ]
  },
  {
   "cell_type": "code",
   "execution_count": null,
   "metadata": {},
   "outputs": [],
   "source": [
    "\"\"\" Given and array return an array with each element being squared. \"\"\"\n",
    "\n",
    "def squareArray(arr):\n",
    "    out = []\n",
    "    for x in arr:\n",
    "        out.append(x ** 2)\n",
    "    return out\n",
    "\n",
    "print(squareArray([-3, 2, 0, -2, 5, 9])) # [9, 4, 0, 4, 25, 81]"
   ]
  },
  {
   "cell_type": "code",
   "execution_count": null,
   "metadata": {},
   "outputs": [],
   "source": [
    "\"\"\" Count the number of occurrences of a value (method 1 - using sorting). \"\"\"\n",
    "\n",
    "def occurrenceCounterSort(arr):\n",
    "    arr.sort()\n",
    "    last = arr[0]\n",
    "    count = 0\n",
    "    for x in arr:\n",
    "        if x == last:\n",
    "            count += 1\n",
    "        else:\n",
    "            print(last, \"occurred\", count, \"times\")\n",
    "            last = x\n",
    "            count = 1\n",
    "    print(last, \"occurred\", count, \"times\")\n",
    "\n",
    "occurrenceCounterSort([4, 2, 7, 3, 2, -1, 2, -1])"
   ]
  },
  {
   "cell_type": "code",
   "execution_count": null,
   "metadata": {},
   "outputs": [],
   "source": [
    "\"\"\" Count the number of occurrences of a value (method 1 - using a dictionary). \"\"\"\n",
    "\n",
    "def occurrenceCounterSort(arr):\n",
    "    d = {}\n",
    "    for x in arr:\n",
    "        if x in d:\n",
    "            d[x] += 1\n",
    "        else:\n",
    "            d[x] = 1\n",
    "    for (x, y) in d.items():\n",
    "        print(x, \"occurred\", y, \"times\")\n",
    "\n",
    "\n",
    "occurrenceCounterSort([4, 2, 7, 3, 2, -1, 2, -1])"
   ]
  }
 ],
 "metadata": {
  "kernelspec": {
   "display_name": "Python 3.9.13 64-bit",
   "language": "python",
   "name": "python3"
  },
  "language_info": {
   "codemirror_mode": {
    "name": "ipython",
    "version": 3
   },
   "file_extension": ".py",
   "mimetype": "text/x-python",
   "name": "python",
   "nbconvert_exporter": "python",
   "pygments_lexer": "ipython3",
   "version": "3.9.13"
  },
  "orig_nbformat": 4,
  "vscode": {
   "interpreter": {
    "hash": "aee8b7b246df8f9039afb4144a1f6fd8d2ca17a180786b69acc140d282b71a49"
   }
  }
 },
 "nbformat": 4,
 "nbformat_minor": 2
}
