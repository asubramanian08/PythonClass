{
 "cells": [
  {
   "cell_type": "code",
   "execution_count": null,
   "source": [
    "# Min element\n",
    "def MIN(x, y):\n",
    "    return x if x < y else y\n",
    "\n",
    "\n",
    "arr = [3, 54, 72, 2348, 234, 778, 42, 25, 9, 77, 6, 53, 234]\n",
    "mEle = 0\n",
    "for ele in arr:\n",
    "    mEle = MIN(mEle, ele)"
   ],
   "outputs": [],
   "metadata": {}
  },
  {
   "cell_type": "code",
   "execution_count": null,
   "source": [
    "# Add down\n",
    "def AddDown(x):\n",
    "    s = 0\n",
    "    for i in range(x, 0, -1):\n",
    "        s += i\n",
    "    return s"
   ],
   "outputs": [],
   "metadata": {}
  },
  {
   "cell_type": "code",
   "execution_count": null,
   "source": [
    "# Reverse a string\n",
    "def reverse1(s):\n",
    "    newS = ''\n",
    "    for i in range(len(s)-1, 0, -1):\n",
    "        newS += s[i]\n",
    "    return newS\n",
    "\n",
    "def reverse2(s):\n",
    "    for i in range(0, len(s)/2):\n",
    "        temp = s[i]\n",
    "        s[i] = s[len(s) - 1 - i]\n",
    "        s[len(s) - 1 - i] = temp"
   ],
   "outputs": [],
   "metadata": {}
  },
  {
   "cell_type": "code",
   "execution_count": null,
   "source": [
    "# even list\n",
    "def EvenList(*ele):\n",
    "    even = []\n",
    "    for i in ele:\n",
    "        if i % 2 == 0:\n",
    "            even += i\n",
    "    return even"
   ],
   "outputs": [],
   "metadata": {}
  }
 ],
 "metadata": {
  "orig_nbformat": 4,
  "language_info": {
   "name": "python",
   "version": "3.9.1"
  },
  "kernelspec": {
   "name": "python3",
   "display_name": "Python 3.9.1 64-bit"
  },
  "interpreter": {
   "hash": "aee8b7b246df8f9039afb4144a1f6fd8d2ca17a180786b69acc140d282b71a49"
  }
 },
 "nbformat": 4,
 "nbformat_minor": 2
}