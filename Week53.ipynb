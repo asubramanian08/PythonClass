{
 "cells": [
  {
   "attachments": {},
   "cell_type": "markdown",
   "metadata": {},
   "source": [
    "## Project: Comparing DNA\n",
    "\n",
    "Break down the project into 5 steps:\n",
    "1. Read in the two string\n",
    "\n",
    "    ```python\n",
    "    str1 = input(\"Enter the first string: \")\n",
    "    str2 = input(\"Enter the second string: \")\n",
    "    ```\n",
    "2. Create empty table\n",
    "\n",
    "    ```python\n",
    "    rows = len(str1) + 1\n",
    "    cols = len(str2) + 1\n",
    "    table = []\n",
    "    current_row = []\n",
    "    for i in range(cols):\n",
    "        current_row.append(0)\n",
    "    for i in range(rows):\n",
    "        table.append(current_row)\n",
    "    print(table)\n",
    "    ```\n",
    "3. Fill the first row / column of the table\n",
    "4. Fill in the entire table: DP transitions\n",
    "5. Print your result: Last cell of the table\n",
    "\n",
    "Finish steps 1 and 2 - see the code above.\n",
    "\n",
    "Here is the link to the repl: https://replit.com/@asubramanian08/Comparing-DNA#main.py"
   ]
  }
 ],
 "metadata": {
  "language_info": {
   "name": "python"
  },
  "orig_nbformat": 4
 },
 "nbformat": 4,
 "nbformat_minor": 2
}
