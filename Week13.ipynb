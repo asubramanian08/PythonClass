{
 "cells": [
  {
   "cell_type": "markdown",
   "metadata": {},
   "source": [
    "## Programming Project"
   ]
  },
  {
   "cell_type": "code",
   "execution_count": null,
   "metadata": {},
   "outputs": [],
   "source": [
    "\"\"\" Merge function for mergesort \"\"\"\n",
    "def merge(arr1, arr2):\n",
    "    \"\"\" arr1 and arr2 are two sorted arrays.\n",
    "    Return a sorted array will all elements from arr1 and arr2. \"\"\"\n",
    "    p1 = p2 = 0\n",
    "    res = []\n",
    "    while p1 < len(arr1) or p2 < len(arr2):\n",
    "        if p1 < len(arr1) and (p2 == len(arr2) or arr1[p1] <= arr2[p2]):\n",
    "            res.append(arr1[p1])\n",
    "            p1 += 1\n",
    "        else:\n",
    "            res.append(arr2[p2])\n",
    "            p2 += 1\n",
    "    return res\n",
    "\n",
    "# [2, 4, 4, 5, 6, 6, 8, 8, 9, 9, 10, 10, 10, 11]\n",
    "print(merge([2, 4, 6, 8, 9, 10, 10], [4, 5, 6, 8, 9, 10, 11]))"
   ]
  }
 ],
 "metadata": {
  "interpreter": {
   "hash": "aee8b7b246df8f9039afb4144a1f6fd8d2ca17a180786b69acc140d282b71a49"
  },
  "kernelspec": {
   "display_name": "Python 3.9.10 64-bit",
   "language": "python",
   "name": "python3"
  },
  "language_info": {
   "name": "python",
   "version": "3.9.10"
  },
  "orig_nbformat": 4
 },
 "nbformat": 4,
 "nbformat_minor": 2
}
