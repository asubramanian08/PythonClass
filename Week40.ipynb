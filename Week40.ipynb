{
 "cells": [
  {
   "cell_type": "markdown",
   "metadata": {},
   "source": [
    "## Lecture: Sets\n",
    "\n",
    "Imagine a set a a bag of items. You can add and remove from that bag but it is **unordered**.\n",
    "\n",
    "The difference between a set and a list isn't that a set is ordered while a list is. That what makes the set so fast.\n",
    "\n",
    "A set's three main operations are inserts, deletes, and look ups. Example of a set look up:\n",
    "```python\n",
    "s = {}\n",
    "x = 3 # some arbitrary number\n",
    "...\n",
    "if (x in s)\n",
    "    print(\"The value \" + x + \" is in set s\")\n",
    "else\n",
    "    print(\"The value \" + x + \" is not in set s\")\n",
    "...\n",
    "```\n",
    "\n",
    "See this [link](https://www.w3schools.com/python/python_sets.asp) for how to use sets in python."
   ]
  }
 ],
 "metadata": {
  "kernelspec": {
   "display_name": "Python 3.9.13 64-bit",
   "language": "python",
   "name": "python3"
  },
  "language_info": {
   "name": "python",
   "version": "3.9.13"
  },
  "orig_nbformat": 4,
  "vscode": {
   "interpreter": {
    "hash": "aee8b7b246df8f9039afb4144a1f6fd8d2ca17a180786b69acc140d282b71a49"
   }
  }
 },
 "nbformat": 4,
 "nbformat_minor": 2
}
