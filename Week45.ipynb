{
 "cells": [
  {
   "cell_type": "markdown",
   "metadata": {},
   "source": [
    "## Lesson: Deeper Dive into Turtle\n",
    "\n",
    "Discuss more about how to use the turtle module. Individually research what each function does using the [turtle documentation](https://docs.python.org/3/library/turtle.html). Then, together test out each function and see what it does.\n",
    "\n",
    "Functions to discuss:\n",
    "* numinput()\n",
    "* onkey()\n",
    "* listen()\n",
    "* ontimer()\n",
    "\n",
    "Test out watch each function does using the example code provided in the documentation."
   ]
  }
 ],
 "metadata": {
  "kernelspec": {
   "display_name": "Python 3.10.6 64-bit",
   "language": "python",
   "name": "python3"
  },
  "language_info": {
   "name": "python",
   "version": "3.10.6"
  },
  "orig_nbformat": 4,
  "vscode": {
   "interpreter": {
    "hash": "aee8b7b246df8f9039afb4144a1f6fd8d2ca17a180786b69acc140d282b71a49"
   }
  }
 },
 "nbformat": 4,
 "nbformat_minor": 2
}
