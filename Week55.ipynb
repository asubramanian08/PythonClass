{
 "cells": [
  {
   "attachments": {},
   "cell_type": "markdown",
   "metadata": {},
   "source": [
    "### What will happen?\n",
    "\n",
    "Given the following code determine what will be printed (inspired by ACSL)"
   ]
  },
  {
   "cell_type": "code",
   "execution_count": null,
   "metadata": {},
   "outputs": [],
   "source": [
    "# Exercise 1\n",
    "\n",
    "a, b, c, d = 1, 2, -4, 3\n",
    "\n",
    "if a < b:\n",
    "    a = d * c\n",
    "    c += 1\n",
    "else:\n",
    "    d = c ** 2\n",
    "\n",
    "e = -b * c + d\n",
    "\n",
    "for _ in range(e):\n",
    "    a = a + b\n",
    "    b += 1\n",
    "\n",
    "print(a + b + c + d - e)\n",
    "\n",
    "# Answer: 44"
   ]
  },
  {
   "cell_type": "code",
   "execution_count": null,
   "metadata": {},
   "outputs": [],
   "source": [
    "# Exercise 2\n",
    "\n",
    "a, c, b, d = 3, 9, -2, 5\n",
    "\n",
    "if 3 * a < 6 // b:\n",
    "    b += a ** a\n",
    "    a += 1\n",
    "    d = b - 6 * a\n",
    "else:\n",
    "    b += 10\n",
    "    d = d ** 2\n",
    "    \n",
    "c = 10 ** a\n",
    "c -= 4 + b\n",
    "c //= 100\n",
    "\n",
    "for x in range(c):\n",
    "    b += x\n",
    "\n",
    "print(a + b - c + d)\n",
    "\n",
    "# Answer: 63"
   ]
  }
 ],
 "metadata": {
  "kernelspec": {
   "display_name": "Python 3",
   "language": "python",
   "name": "python3"
  },
  "language_info": {
   "codemirror_mode": {
    "name": "ipython",
    "version": 3
   },
   "file_extension": ".py",
   "mimetype": "text/x-python",
   "name": "python",
   "nbconvert_exporter": "python",
   "pygments_lexer": "ipython3",
   "version": "3.10.9"
  },
  "orig_nbformat": 4
 },
 "nbformat": 4,
 "nbformat_minor": 2
}
