{
 "cells": [
  {
   "cell_type": "markdown",
   "metadata": {},
   "source": [
    "## Change of focus\n",
    "\n",
    "We are changing our focus from recursion and high level algorithmic topics.\n",
    "\n",
    "The goal is to gain a fundamental understanding of programming creating a flow from a plan to working code.\n",
    "\n",
    "The main topics of our discussions with be 2D array and loops progressing into data structures and larger projects."
   ]
  },
  {
   "cell_type": "markdown",
   "metadata": {},
   "source": [
    "## Programming Problems"
   ]
  },
  {
   "cell_type": "code",
   "execution_count": null,
   "metadata": {},
   "outputs": [],
   "source": [
    "\"\"\" palindrome \"\"\"\n",
    "\n",
    "def isPal(arr):\n",
    "    length = len(arr)\n",
    "    for i in range(int(length/2)):\n",
    "        if arr[i] != arr[length-1-i]:\n",
    "            return False\n",
    "    return True\n",
    "\n",
    "print(isPal([0, 3, 2, 4, 7, 7, 2, 3, 0]))  # False\n",
    "print(isPal([0, 3, 2, 4, 7, 4, 2, 3, 0]))  # True"
   ]
  },
  {
   "cell_type": "code",
   "execution_count": null,
   "metadata": {},
   "outputs": [],
   "source": [
    "\"\"\" duplicate elements \"\"\"\n",
    "\n",
    "def insersionSort(arr):  # from week 10\n",
    "    for i in range(1, len(arr)):\n",
    "        for j in range(i, 0, -1):\n",
    "            if arr[j] < arr[j-1]:\n",
    "                temp = arr[j]\n",
    "                arr[j] = arr[j-1]\n",
    "                arr[j-1] = temp\n",
    "            else:\n",
    "                break\n",
    "    return arr\n",
    "\n",
    "def removeDuplicates(arr):\n",
    "    arr = insersionSort(arr)\n",
    "    newArr = []\n",
    "    for i in range(len(arr)):\n",
    "        if i == 0 or arr[i-1] != arr[i]:\n",
    "            newArr.append(arr[i])\n",
    "    return newArr\n",
    "\n",
    "# [-1, 0, 2, 3, 4, 6, 8, 66]\n",
    "removeDuplicates([4, 3, 8, 3, 6, 3, 8, 8, 2, 0, -1, 2, 66])"
   ]
  }
 ],
 "metadata": {
  "interpreter": {
   "hash": "aee8b7b246df8f9039afb4144a1f6fd8d2ca17a180786b69acc140d282b71a49"
  },
  "kernelspec": {
   "display_name": "Python 3.9.1 64-bit",
   "language": "python",
   "name": "python3"
  },
  "language_info": {
   "codemirror_mode": {
    "name": "ipython",
    "version": 3
   },
   "file_extension": ".py",
   "mimetype": "text/x-python",
   "name": "python",
   "nbconvert_exporter": "python",
   "pygments_lexer": "ipython3",
   "version": "3.9.10"
  },
  "orig_nbformat": 4
 },
 "nbformat": 4,
 "nbformat_minor": 2
}
