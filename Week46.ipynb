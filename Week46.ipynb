{
 "cells": [
  {
   "cell_type": "markdown",
   "metadata": {},
   "source": [
    "## Project: TicTacToe with Turtle (Section 1)\n",
    "\n",
    "The main idea: Create a two player tic tac toe game using turtle graphics.\n",
    "\n",
    "Today's goals - Developing the UI functionality:\n",
    "* Be able to draw the board (using a `drawLine()` function)\n",
    "* Draw either 'X' or 'O' at a specific location on the board"
   ]
  },
  {
   "cell_type": "code",
   "execution_count": null,
   "metadata": {},
   "outputs": [],
   "source": [
    "# Setup / Constants\n",
    "import turtle\n",
    "\n",
    "CELL = 100\n",
    "RADIUS = 35\n",
    "X_LENGTH = 40\n",
    "\n",
    "LOC = [[(-CELL, +CELL), (0, +CELL), (+CELL, +CELL)],\n",
    "       [(-CELL, 0), (0, 0), (+CELL, 0)],\n",
    "       [(-CELL, -CELL), (0, -CELL), (+CELL, -CELL)]]"
   ]
  },
  {
   "cell_type": "code",
   "execution_count": null,
   "metadata": {},
   "outputs": [],
   "source": [
    "# Basic UI Function\n",
    "\n",
    "def goto(x, y):\n",
    "    \"\"\" Move turtle to position (x, y) \"\"\"\n",
    "    turtle.penup()\n",
    "    turtle.goto(x, y)\n",
    "    turtle.pendown()\n",
    "\n",
    "def line(x, y, length, angle):\n",
    "    \"\"\" Draw a line of given length and angle \"\"\"\n",
    "    goto(x, y)\n",
    "    turtle.setheading(angle)\n",
    "    turtle.forward(length)"
   ]
  },
  {
   "cell_type": "code",
   "execution_count": null,
   "metadata": {},
   "outputs": [],
   "source": [
    "# Player Move - X or O\n",
    "\n",
    "def X(x, y):\n",
    "    \"\"\" Draw an X at position (x, y) \"\"\"\n",
    "    for i in range(4):\n",
    "        line(x, y, X_LENGTH, i * 90 + 45)\n",
    "\n",
    "def O(x, y):\n",
    "    \"\"\" Draw an O at position (x, y) \"\"\"\n",
    "    turtle.setheading(0)\n",
    "    goto(x, y - RADIUS)\n",
    "    turtle.circle(RADIUS)"
   ]
  },
  {
   "cell_type": "code",
   "execution_count": null,
   "metadata": {},
   "outputs": [],
   "source": [
    "# Draw Grid\n",
    "def draw_grid():\n",
    "    \"\"\" Draw the grid \"\"\"\n",
    "    line(-3 * CELL / 2, +CELL / 2, 3 * CELL, 0)  # line(-150, +50, 300, 0)\n",
    "    line(-3 * CELL / 2, -CELL / 2, 3 * CELL, 0)  # line(-150, -50, 300, 0)\n",
    "    line(+CELL / 2, 3 * CELL / 2, 3 * CELL, 270)  # line(+50, 150, 300, 270)\n",
    "    line(-CELL / 2, 3 * CELL / 2, 3 * CELL, 270)  # line(-50, 150, 300, 270)"
   ]
  },
  {
   "cell_type": "code",
   "execution_count": null,
   "metadata": {},
   "outputs": [],
   "source": [
    "# Testing\n",
    "draw_grid()\n",
    "X(*LOC[0][0])\n",
    "O(*LOC[1][1])\n",
    "X(*LOC[0][1])\n",
    "O(*LOC[2][0])\n",
    "X(*LOC[0][2])\n",
    "turtle.hideturtle()\n",
    "turtle.exitonclick()"
   ]
  }
 ],
 "metadata": {
  "kernelspec": {
   "display_name": "Python 3.10.6 64-bit",
   "language": "python",
   "name": "python3"
  },
  "language_info": {
   "codemirror_mode": {
    "name": "ipython",
    "version": 3
   },
   "file_extension": ".py",
   "mimetype": "text/x-python",
   "name": "python",
   "nbconvert_exporter": "python",
   "pygments_lexer": "ipython3",
   "version": "3.10.6"
  },
  "orig_nbformat": 4,
  "vscode": {
   "interpreter": {
    "hash": "aee8b7b246df8f9039afb4144a1f6fd8d2ca17a180786b69acc140d282b71a49"
   }
  }
 },
 "nbformat": 4,
 "nbformat_minor": 2
}
