{
 "cells": [
  {
   "attachments": {},
   "cell_type": "markdown",
   "metadata": {},
   "source": [
    "## Project: TicTacToe with Turtle (Section 2)\n",
    "\n",
    "* Set up the data\n",
    "    * The positions of the 9 cells\n",
    "    * The current game state (X, O, or empty)\n",
    "* Determine weather the game is a tie or win"
   ]
  },
  {
   "cell_type": "code",
   "execution_count": 2,
   "metadata": {},
   "outputs": [],
   "source": [
    "# Data\n",
    "LOC = [[(-CELL, +CELL), (0, +CELL), (+CELL, +CELL)],\n",
    "       [(-CELL, 0), (0, 0), (+CELL, 0)], # Taken from week 46\n",
    "       [(-CELL, -CELL), (0, -CELL), (+CELL, -CELL)]]\n",
    "grid = [\"empty\", \"empty\", \"empty\", \"empty\", \"empty\", \"empty\", \"empty\", \"empty\", \"empty\"]\n",
    "# can have values: \"empty\", \"X\", or \"O\""
   ]
  },
  {
   "cell_type": "code",
   "execution_count": 3,
   "metadata": {},
   "outputs": [],
   "source": [
    "# Is there a winner?\n",
    "def winner(grid):\n",
    "    for i in range(3):\n",
    "        if grid[i] == grid[i+3] == grid[i+6] != \"empty\": # Check rows\n",
    "            return grid[i]\n",
    "        if grid[i*3] == grid[i*3+1] == grid[i*3+2] != \"empty\": # Check columns\n",
    "            return grid[i*3]\n",
    "    if grid[0] == grid[4] == grid[8] != \"empty\": # Check diagonal\n",
    "        return grid[0]\n",
    "    if grid[2] == grid[4] == grid[6] != \"empty\": # Check other diagonal\n",
    "        return grid[2]\n",
    "    return \"NA\""
   ]
  },
  {
   "cell_type": "code",
   "execution_count": null,
   "metadata": {},
   "outputs": [],
   "source": [
    "# Is it a tie?\n",
    "def tie(grid):\n",
    "    if win(grid):\n",
    "        return False\n",
    "    for i in range(9):\n",
    "        if grid[i] == \"empty\":\n",
    "            return False\n",
    "    return True"
   ]
  }
 ],
 "metadata": {
  "kernelspec": {
   "display_name": "Python 3",
   "language": "python",
   "name": "python3"
  },
  "language_info": {
   "codemirror_mode": {
    "name": "ipython",
    "version": 3
   },
   "file_extension": ".py",
   "mimetype": "text/x-python",
   "name": "python",
   "nbconvert_exporter": "python",
   "pygments_lexer": "ipython3",
   "version": "3.10.6"
  },
  "orig_nbformat": 4,
  "vscode": {
   "interpreter": {
    "hash": "aee8b7b246df8f9039afb4144a1f6fd8d2ca17a180786b69acc140d282b71a49"
   }
  }
 },
 "nbformat": 4,
 "nbformat_minor": 2
}
