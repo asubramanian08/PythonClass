{
 "cells": [
  {
   "attachments": {},
   "cell_type": "markdown",
   "metadata": {},
   "source": [
    "## Project: Minimax\n",
    "\n",
    "Complete the rest of the minimax algorithm to determine what the optimal move is. Have the function return but the score and the move that was made to get that score. The next thing is to incorporate this into the game code."
   ]
  }
 ],
 "metadata": {
  "language_info": {
   "name": "python"
  },
  "orig_nbformat": 4
 },
 "nbformat": 4,
 "nbformat_minor": 2
}
