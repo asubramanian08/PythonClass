{
 "cells": [
  {
   "attachments": {},
   "cell_type": "markdown",
   "metadata": {},
   "source": [
    "## Project: Minimax\n",
    "\n",
    "Break down the algorithm into steps:\n",
    "1. Determine if the game has ended based on the board\n",
    "2. Loop over all possible moves\n",
    "3. Pick the one that gives the best score\n",
    "\n",
    "Finish writing the code for step one and two. Discuss how to do step 3."
   ]
  }
 ],
 "metadata": {
  "language_info": {
   "name": "python"
  },
  "orig_nbformat": 4
 },
 "nbformat": 4,
 "nbformat_minor": 2
}
