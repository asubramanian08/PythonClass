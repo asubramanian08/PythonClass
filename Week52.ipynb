{
 "cells": [
  {
   "attachments": {},
   "cell_type": "markdown",
   "metadata": {},
   "source": [
    "## Project: Comparing DNA\n",
    "\n",
    "Introduce new DP concepts:\n",
    "- Purpose of a DP is to break down a problem into subproblems of the same structure\n",
    "    - Each subproblem can be solved independently - it's its own problem\n",
    "    - The solution to the problem is build on the solutions to the subproblems\n",
    "- DP state: Describes one subproblem (Ex: for comparing DNA it is i, j - the indices of the strings)\n",
    "- DP transition: How to go from one state to another (Ex: for comparing DNA it is add, remove, substitute)\n",
    "\n",
    "Review each of the transitions and determine expression for them:\n",
    "- Add: `DP[i][j-1] + 1`\n",
    "- Remove: `DP[i-1][j] + 1`\n",
    "- Substitute: `DP[i-1][j-1] + (arr[i]!=arr[j)`"
   ]
  }
 ],
 "metadata": {
  "kernelspec": {
   "display_name": "Python 3",
   "language": "python",
   "name": "python3"
  },
  "language_info": {
   "name": "python",
   "version": "3.9.6"
  },
  "orig_nbformat": 4,
  "vscode": {
   "interpreter": {
    "hash": "31f2aee4e71d21fbe5cf8b01ff0e069b9275f58929596ceb00d14d90e3e16cd6"
   }
  }
 },
 "nbformat": 4,
 "nbformat_minor": 2
}
