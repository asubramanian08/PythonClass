{
 "cells": [
  {
   "cell_type": "markdown",
   "metadata": {},
   "source": [
    "## Lecture: Turtle\n",
    "\n",
    "Turtle is a library used for drawing images in python. You can find the documentation [here](https://docs.python.org/3/library/turtle.html).\n",
    "\n",
    "Getting started:\n",
    "* Installing the library: `pip install turtle`\n",
    "* Importing the library: `import turtle` or `from turtle import *`\n",
    "\n",
    "Explain what turtle is and how it works. Then look over some of the examples in the [documentation](https://docs.python.org/3/library/turtle.html). Explain how the examples work and try changing some of the values to see what happens.\n",
    "* Change the color of the pen or fill\n",
    "* Change the distance the pen moves\n",
    "* Change the angle the pen turns\n",
    "* ...\n",
    "\n",
    "Using this knowledge, draw a blue square that is filled green."
   ]
  },
  {
   "cell_type": "markdown",
   "metadata": {},
   "source": [
    "## Programming Problem"
   ]
  },
  {
   "cell_type": "code",
   "execution_count": null,
   "metadata": {},
   "outputs": [],
   "source": [
    "\"\"\" Draw a square with blue edges and a gree fill. \"\"\"\n",
    "\n",
    "# Set up\n",
    "from turtle import *\n",
    "color('blue', 'green')\n",
    "begin_fill()\n",
    "\n",
    "# Draw the square\n",
    "for _ in range(4):\n",
    "    forward(100)\n",
    "    left(90)\n",
    "\n",
    "# Finish up\n",
    "end_fill()\n",
    "done()"
   ]
  }
 ],
 "metadata": {
  "kernelspec": {
   "display_name": "Python 3.9.13 64-bit",
   "language": "python",
   "name": "python3"
  },
  "language_info": {
   "codemirror_mode": {
    "name": "ipython",
    "version": 3
   },
   "file_extension": ".py",
   "mimetype": "text/x-python",
   "name": "python",
   "nbconvert_exporter": "python",
   "pygments_lexer": "ipython3",
   "version": "3.9.13"
  },
  "orig_nbformat": 4,
  "vscode": {
   "interpreter": {
    "hash": "aee8b7b246df8f9039afb4144a1f6fd8d2ca17a180786b69acc140d282b71a49"
   }
  }
 },
 "nbformat": 4,
 "nbformat_minor": 2
}
