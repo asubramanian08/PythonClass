{
 "cells": [
  {
   "attachments": {},
   "cell_type": "markdown",
   "metadata": {},
   "source": [
    "## New Project: Minimax\n",
    "\n",
    "Using the tictactoe made with turtle create a computer algorithm to play against the user. The computer should never lose.\n",
    "\n",
    "The algorithm recursively determines what the opponent's best move would be and pick the move that will be the worst for the opponent. Essentially you must loop over all possible moves an pick the one where the best move for the opponent is the worst."
   ]
  }
 ],
 "metadata": {
  "language_info": {
   "name": "python"
  },
  "orig_nbformat": 4
 },
 "nbformat": 4,
 "nbformat_minor": 2
}
