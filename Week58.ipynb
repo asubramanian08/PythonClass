{
 "cells": [
  {
   "attachments": {},
   "cell_type": "markdown",
   "metadata": {},
   "source": [
    "## Project: Comparing DNA\n",
    "\n",
    "Finish implementing step 5:\n",
    "- fill in the table based on the 3 DP transitions\n",
    "- if both letters are the same, diagonal has no extra cost\n",
    "\n",
    "**Hint**: You can use the `min` function to find the minimum of a list of numbers."
   ]
  }
 ],
 "metadata": {
  "language_info": {
   "name": "python"
  },
  "orig_nbformat": 4
 },
 "nbformat": 4,
 "nbformat_minor": 2
}
