{
 "cells": [
  {
   "cell_type": "markdown",
   "metadata": {},
   "source": [
    "## Programming Problem\n",
    "\n",
    "Continue with the previous [USACO problem](http://usaco.org/index.php?page=viewproblem2&cpid=1180).\n",
    "\n",
    "Quick recap on what the code is doing in relation to the question. (This didn't take much explaining on my end).\n",
    "\n",
    "Finish writing the \"main\" code; only debugging is left."
   ]
  }
 ],
 "metadata": {
  "language_info": {
   "name": "python"
  },
  "orig_nbformat": 4
 },
 "nbformat": 4,
 "nbformat_minor": 2
}
