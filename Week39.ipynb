{
 "cells": [
  {
   "cell_type": "markdown",
   "metadata": {},
   "source": [
    "## Lecture: Dictionaries\n",
    "\n",
    "A dictionary is just a set of key value pairs (that phrase comes up a lot).\n",
    "\n",
    "Dictionaries can be used to set, update, or query the value of some key.\n",
    "\n",
    "See more about dictionary syntax with [this link](https://www.w3schools.com/python/python_dictionaries.asp) and the below example."
   ]
  },
  {
   "cell_type": "markdown",
   "metadata": {},
   "source": [
    "## Example: Marble Bag"
   ]
  },
  {
   "cell_type": "code",
   "execution_count": null,
   "metadata": {},
   "outputs": [],
   "source": [
    "\"\"\" Simulate a bag of marbles when you can add and remove marbles of any color. \"\"\"\n",
    "bag = {} # Dictionary of all the marbles\n",
    "n = int(input(\"Enter the number of marble entries: \"))\n",
    "for i in range(n): # Loop though each input line\n",
    "    inp = input(\"Enter the color and number of marbles: \").split(' ')\n",
    "    bag[inp[0]] += int(inp[1]) # Set / update the number of marbles of a certain color\n",
    "print(bag) # Print the entire dictionary to show all marbles in the bag"
   ]
  },
  {
   "cell_type": "markdown",
   "metadata": {},
   "source": [
    "### Analysis\n",
    "\n",
    "Determine what the output would be.\n",
    "\n",
    "**Test 1:**\n",
    "    \n",
    "    3\n",
    "    Red 6\n",
    "    Blue 2\n",
    "    Green 3\n",
    "\n",
    "    {'Red': 6, 'Blue': 2, 'Green': 3}\n",
    "\n",
    "**Test 2:**\n",
    "    \n",
    "    3\n",
    "    Red 6\n",
    "    Blue 2\n",
    "    Red -1\n",
    "\n",
    "    {'Red': 5, 'Blue': 2}"
   ]
  }
 ],
 "metadata": {
  "kernelspec": {
   "display_name": "Python 3.9.13 64-bit",
   "language": "python",
   "name": "python3"
  },
  "language_info": {
   "name": "python",
   "version": "3.9.13"
  },
  "orig_nbformat": 4,
  "vscode": {
   "interpreter": {
    "hash": "aee8b7b246df8f9039afb4144a1f6fd8d2ca17a180786b69acc140d282b71a49"
   }
  }
 },
 "nbformat": 4,
 "nbformat_minor": 2
}
