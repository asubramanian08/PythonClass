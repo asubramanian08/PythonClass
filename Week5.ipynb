{
 "cells": [
  {
   "cell_type": "markdown",
   "metadata": {},
   "source": [
    "## Lesson: Functions pt. 2\n",
    "\n",
    "Why are functions useful:\n",
    "* To code an idea\n",
    "* Using multiple times\n",
    "* Recursion (next lesson)\n",
    "\n",
    "The key things to know about functions are the parameters, returns (can be `None` or `Tuple`), and a variable's scope."
   ]
  },
  {
   "cell_type": "code",
   "execution_count": null,
   "metadata": {},
   "outputs": [],
   "source": [
    "\"\"\" Reusability of code \"\"\"\n",
    "def Hello(name):\n",
    "    print('Hi ' + name + ', Good morning!')\n",
    "\n",
    "Hello('James')\n",
    "Hello('Bob')"
   ]
  },
  {
   "cell_type": "code",
   "execution_count": null,
   "metadata": {},
   "outputs": [],
   "source": [
    "\"\"\" How to use a return \"\"\"\n",
    "def Add(num1, num2):\n",
    "    # don't always need to print inside a function\n",
    "    return num1 + num2\n",
    "\n",
    "a = Add(1, 2)\n",
    "print(Add(2, 3))\n",
    "print(Add(1, Add(2, 3)))"
   ]
  },
  {
   "cell_type": "code",
   "execution_count": null,
   "metadata": {},
   "outputs": [],
   "source": [
    "\"\"\" Different ways of using a return \"\"\"\n",
    "def Helloworld():\n",
    "    return \"Hello World\"\n",
    "\n",
    "print(Helloworld())\n",
    "for ch in Helloworld()[::2]:\n",
    "    print(ch, end='')"
   ]
  },
  {
   "cell_type": "code",
   "execution_count": null,
   "metadata": {},
   "outputs": [],
   "source": [
    "\"\"\" Global vs. Local variable: Scope \"\"\"\n",
    "def x20():\n",
    "    x = 20\n",
    "\n",
    "x = 3\n",
    "x20()\n",
    "# What does this print?\n",
    "print(x)"
   ]
  },
  {
   "cell_type": "code",
   "execution_count": null,
   "metadata": {},
   "outputs": [],
   "source": [
    "\"\"\" Coding an idea: simplify your algorithm\"\"\"\n",
    "def MAX(x, y):\n",
    "    if x > y:\n",
    "        return x\n",
    "    else:\n",
    "        return y\n",
    "\n",
    "arr = [6, 4, 5, 7, 8, 8, 6, 4, 332, 345, 34, 63, 574, 53, 4, 56, 5]\n",
    "count = 0\n",
    "for i in arr:\n",
    "    count = MAX(count, i)"
   ]
  },
  {
   "cell_type": "code",
   "execution_count": null,
   "metadata": {},
   "outputs": [],
   "source": [
    "\"\"\" Absolute value: just another example \"\"\"\n",
    "def ABS(x):\n",
    "    if x < 0:\n",
    "        return -x\n",
    "    else:\n",
    "        return x"
   ]
  },
  {
   "cell_type": "markdown",
   "metadata": {},
   "source": [
    "## Programming Problems\n",
    "\n",
    "NOTE: Explain how to swap two elements (reversing a list)."
   ]
  },
  {
   "cell_type": "code",
   "execution_count": null,
   "metadata": {},
   "outputs": [],
   "source": [
    "\"\"\" Min element in an array: use the MIN function \"\"\"\n",
    "def MIN(x, y):\n",
    "    return x if x < y else y\n",
    "\n",
    "\n",
    "arr = [3, 54, 72, 2348, 234, 778, 42, 25, 9, 77, 6, 53, 234]\n",
    "mEle = 0\n",
    "for ele in arr:\n",
    "    mEle = MIN(mEle, ele)"
   ]
  },
  {
   "cell_type": "code",
   "execution_count": null,
   "metadata": {},
   "outputs": [],
   "source": [
    "\"\"\" Add down from some starting number x to 1 \"\"\"\n",
    "def AddDown(x):\n",
    "    s = 0\n",
    "    for i in range(x, 0, -1):\n",
    "        s += i\n",
    "    return s"
   ]
  },
  {
   "cell_type": "code",
   "execution_count": null,
   "metadata": {},
   "outputs": [],
   "source": [
    "\"\"\" Reverse a string \"\"\"\n",
    "def reverse1(s):\n",
    "    newS = ''\n",
    "    for i in range(len(s)-1, 0, -1):\n",
    "        newS += s[i]\n",
    "    return newS\n",
    "\n",
    "def reverse2(s):\n",
    "    for i in range(0, len(s)/2):\n",
    "        temp = s[i]\n",
    "        s[i] = s[len(s) - 1 - i]\n",
    "        s[len(s) - 1 - i] = temp"
   ]
  },
  {
   "cell_type": "code",
   "execution_count": null,
   "metadata": {},
   "outputs": [],
   "source": [
    "\"\"\" return a list of only the even elements \"\"\"\n",
    "def EvenList(*ele):\n",
    "    even = []\n",
    "    for i in ele:\n",
    "        if i % 2 == 0:\n",
    "            even += i\n",
    "    return even"
   ]
  }
 ],
 "metadata": {
  "interpreter": {
   "hash": "aee8b7b246df8f9039afb4144a1f6fd8d2ca17a180786b69acc140d282b71a49"
  },
  "kernelspec": {
   "display_name": "Python 3.9.1 64-bit",
   "name": "python3"
  },
  "language_info": {
   "name": "python",
   "version": "3.9.10"
  },
  "orig_nbformat": 4
 },
 "nbformat": 4,
 "nbformat_minor": 2
}
