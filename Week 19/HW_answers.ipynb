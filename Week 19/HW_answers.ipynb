{
 "cells": [
  {
   "cell_type": "code",
   "execution_count": null,
   "metadata": {},
   "outputs": [],
   "source": [
    "def list_info(arr):\n",
    "    s = 0\n",
    "    m = arr[0]\n",
    "    for ele in arr:\n",
    "        s += ele\n",
    "        m = max(m, ele)\n",
    "    return (s, m)\n",
    "\n",
    "print(list_info([0, 3, -1, 5]))  # (7, 5)\n",
    "print(list_info([-5, -10, -5, -15]))  # (-35, -5)"
   ]
  },
  {
   "cell_type": "code",
   "execution_count": null,
   "metadata": {},
   "outputs": [],
   "source": [
    "def odd_ele(arr):\n",
    "    odds = []\n",
    "    for ele in arr:\n",
    "        if ele % 2 == 1:\n",
    "            odds.append(ele)\n",
    "    return odds\n",
    "\n",
    "print(odd_ele([0, 3, -1, 5]))  # [3, -1, 5]\n",
    "print(odd_ele([-5, -10, -5, -15]))  # [-5, -5, -15]"
   ]
  },
  {
   "cell_type": "code",
   "execution_count": null,
   "metadata": {},
   "outputs": [],
   "source": [
    "def odd_pos(arr):\n",
    "    odds = []\n",
    "    for i in range(len(arr)):\n",
    "        if i % 2 == 1:\n",
    "            odds.append(arr[i])\n",
    "    return odds\n",
    "\n",
    "print(odd_pos([0, 3, -1, 5]))  # [3, 5]\n",
    "print(odd_pos([-5, -10, -5, -15]))  # [-10, -15]"
   ]
  }
 ],
 "metadata": {
  "interpreter": {
   "hash": "aee8b7b246df8f9039afb4144a1f6fd8d2ca17a180786b69acc140d282b71a49"
  },
  "kernelspec": {
   "display_name": "Python 3.9.1 64-bit",
   "language": "python",
   "name": "python3"
  },
  "language_info": {
   "codemirror_mode": {
    "name": "ipython",
    "version": 3
   },
   "file_extension": ".py",
   "mimetype": "text/x-python",
   "name": "python",
   "nbconvert_exporter": "python",
   "pygments_lexer": "ipython3",
   "version": "3.9.1"
  },
  "orig_nbformat": 4
 },
 "nbformat": 4,
 "nbformat_minor": 2
}
