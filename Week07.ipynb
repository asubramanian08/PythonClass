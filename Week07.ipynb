{
 "cells": [
  {
   "cell_type": "markdown",
   "metadata": {},
   "source": [
    "## Lecture: Recursion\n",
    "\n",
    "Explain the concept of recursion. The function calling itself.\n",
    "* The main idea of recursion is to break a problem down into one or more subtasks.\n",
    "* It is easier to write and understand recursion than iteration.\n",
    "\n",
    "Review the following examples that touch on many different recursion ideas."
   ]
  },
  {
   "cell_type": "code",
   "execution_count": null,
   "metadata": {},
   "outputs": [],
   "source": [
    "\"\"\" Print Hello x number of times \"\"\"\n",
    "def HelloX(x):\n",
    "    if x <= 0:  # Base Case\n",
    "        return\n",
    "    print(\"Hello\")\n",
    "    HelloX(x-1)"
   ]
  },
  {
   "cell_type": "code",
   "execution_count": null,
   "metadata": {},
   "outputs": [],
   "source": [
    "\"\"\" Add all the numbers in a list \"\"\"\n",
    "def AddList(num_list):\n",
    "    if len(num_list) <= 1:\n",
    "        return num_list[0]\n",
    "    else:\n",
    "        return num_list[0] + AddList(num_list[1:])"
   ]
  },
  {
   "cell_type": "markdown",
   "metadata": {},
   "source": [
    "## Programming Problems"
   ]
  },
  {
   "cell_type": "code",
   "execution_count": null,
   "metadata": {},
   "outputs": [],
   "source": [
    "\"\"\" Return the factorial of some number of fact(x) = fact(x-1) + fact(x-2). \"\"\"\n",
    "def factorial(x):\n",
    "    if x <= 0:\n",
    "        return 1\n",
    "    else:\n",
    "        return x * factorial(x-1)\n",
    "\n",
    "print(factorial(3))  # 6\n",
    "print(factorial(4))  # 24"
   ]
  },
  {
   "cell_type": "code",
   "execution_count": null,
   "metadata": {},
   "outputs": [],
   "source": [
    "\"\"\" Recursively add from some given number down to 0. \"\"\"\n",
    "def AddDown(x):\n",
    "    if x <= 0:\n",
    "        return 0\n",
    "    else:\n",
    "        return x + AddDown(x-1)\n",
    "\n",
    "print(AddDown(3))  # 6\n",
    "print(AddDown(4))  # 10"
   ]
  },
  {
   "cell_type": "code",
   "execution_count": null,
   "metadata": {},
   "outputs": [],
   "source": [
    "\"\"\" Use recursion for integer exponentiation. \"\"\"\n",
    "def Exponent(a, b):\n",
    "    if b <= 0:\n",
    "        return 1\n",
    "    else:\n",
    "        return a * Exponent(a, b-1)\n",
    "\n",
    "print(Exponent(2, 3))  # 8\n",
    "print(Exponent(2, 4))  # 16"
   ]
  }
 ],
 "metadata": {
  "interpreter": {
   "hash": "aee8b7b246df8f9039afb4144a1f6fd8d2ca17a180786b69acc140d282b71a49"
  },
  "kernelspec": {
   "display_name": "Python 3.9.1 64-bit",
   "name": "python3"
  },
  "language_info": {
   "codemirror_mode": {
    "name": "ipython",
    "version": 3
   },
   "file_extension": ".py",
   "mimetype": "text/x-python",
   "name": "python",
   "nbconvert_exporter": "python",
   "pygments_lexer": "ipython3",
   "version": "3.9.10"
  },
  "orig_nbformat": 4
 },
 "nbformat": 4,
 "nbformat_minor": 2
}
