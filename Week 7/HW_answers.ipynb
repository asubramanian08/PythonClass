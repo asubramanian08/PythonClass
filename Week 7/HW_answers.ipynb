{
 "cells": [
  {
   "cell_type": "code",
   "execution_count": null,
   "source": [
    "# Factorial\n",
    "def factorial(x):\n",
    "    if x <= 0:\n",
    "        return 1\n",
    "    else:\n",
    "        return x * factorial(x-1)\n",
    "\n",
    "print(factorial(3))  # 6\n",
    "print(factorial(4))  # 24"
   ],
   "outputs": [],
   "metadata": {}
  },
  {
   "cell_type": "code",
   "execution_count": null,
   "source": [
    "# Recursive Add Down\n",
    "def AddDown(x):\n",
    "    if x <= 0:\n",
    "        return 0\n",
    "    else:\n",
    "        return x + AddDown(x-1)\n",
    "\n",
    "print(AddDown(3))  # 6\n",
    "print(AddDown(4))  # 10"
   ],
   "outputs": [],
   "metadata": {}
  },
  {
   "cell_type": "code",
   "execution_count": null,
   "source": [
    "# Exponent\n",
    "def Exponent(a, b):\n",
    "    if b <= 0:\n",
    "        return 1\n",
    "    else:\n",
    "        return a * Exponent(a, b-1)\n",
    "\n",
    "print(Exponent(2, 3))  # 8\n",
    "print(Exponent(2, 4))  # 16"
   ],
   "outputs": [],
   "metadata": {}
  }
 ],
 "metadata": {
  "orig_nbformat": 4,
  "language_info": {
   "name": "python",
   "version": "3.9.1",
   "mimetype": "text/x-python",
   "codemirror_mode": {
    "name": "ipython",
    "version": 3
   },
   "pygments_lexer": "ipython3",
   "nbconvert_exporter": "python",
   "file_extension": ".py"
  },
  "kernelspec": {
   "name": "python3",
   "display_name": "Python 3.9.1 64-bit"
  },
  "interpreter": {
   "hash": "aee8b7b246df8f9039afb4144a1f6fd8d2ca17a180786b69acc140d282b71a49"
  }
 },
 "nbformat": 4,
 "nbformat_minor": 2
}