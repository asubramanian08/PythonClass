{
 "cells": [
  {
   "cell_type": "markdown",
   "metadata": {},
   "source": [
    "## Lesson: Debugging\n",
    "\n",
    "Debugging is an important skill though it might seem tedious.\n",
    "\n",
    "It teaches you to think about what is happening in every line.\n",
    "\n",
    "You can't escape it! All good programs have been debugged."
   ]
  },
  {
   "cell_type": "markdown",
   "metadata": {},
   "source": [
    "## Lesson: Pointers\n",
    "\n",
    "Pointers are values that point to a particular memory location.\n",
    "* Changing the values of a pointer changes where is points.\n",
    "    * `ptr += 1` means move the point up one or the next element in an array.\n",
    "* Changing the value a point points to changes what is in the memory.\n",
    "    ```python\n",
    "    arr = [4, 3, 6, 8, 3]\n",
    "    ptr = 2\n",
    "    arr[ptr] -= 1\n",
    "    # arr[2] is now 5 instead of 6\n",
    "    ```\n",
    "\n",
    "There is no data type called pointer in python since everything ends up being a pointer. \n",
    "\n",
    "To access an array you can have a \"pointer\" that is really an integer."
   ]
  },
  {
   "cell_type": "code",
   "execution_count": null,
   "metadata": {},
   "outputs": [],
   "source": [
    "def list_info(arr):\n",
    "    \"\"\" Largest element in a list and sum of list. \"\"\"\n",
    "    s = 0\n",
    "    m = arr[0]\n",
    "    for ele in arr:\n",
    "        s += ele\n",
    "        m = max(m, ele)\n",
    "    return (s, m)\n",
    "\n",
    "print(list_info([0, 3, -1, 5]))  # (7, 5)\n",
    "print(list_info([-5, -10, -5, -15]))  # (-35, -5)"
   ]
  },
  {
   "cell_type": "code",
   "execution_count": null,
   "metadata": {},
   "outputs": [],
   "source": [
    "def odd_ele(arr):\n",
    "    \"\"\" Return a list of all odd elements in a list. \"\"\"\n",
    "    odds = []\n",
    "    for ele in arr:\n",
    "        if ele % 2 == 1:\n",
    "            odds.append(ele)\n",
    "    return odds\n",
    "\n",
    "print(odd_ele([0, 3, -1, 5]))  # [3, -1, 5]\n",
    "print(odd_ele([-5, -10, -5, -15]))  # [-5, -5, -15]"
   ]
  },
  {
   "cell_type": "code",
   "execution_count": null,
   "metadata": {},
   "outputs": [],
   "source": [
    "def odd_pos(arr):\n",
    "    \"\"\" Return a list of element in all odd positions. \"\"\"\n",
    "    odds = []\n",
    "    for i in range(len(arr)):\n",
    "        if i % 2 == 1:\n",
    "            odds.append(arr[i])\n",
    "    return odds\n",
    "\n",
    "print(odd_pos([0, 3, -1, 5]))  # [3, 5]\n",
    "print(odd_pos([-5, -10, -5, -15]))  # [-10, -15]"
   ]
  }
 ],
 "metadata": {
  "interpreter": {
   "hash": "aee8b7b246df8f9039afb4144a1f6fd8d2ca17a180786b69acc140d282b71a49"
  },
  "kernelspec": {
   "display_name": "Python 3.9.1 64-bit",
   "language": "python",
   "name": "python3"
  },
  "language_info": {
   "codemirror_mode": {
    "name": "ipython",
    "version": 3
   },
   "file_extension": ".py",
   "mimetype": "text/x-python",
   "name": "python",
   "nbconvert_exporter": "python",
   "pygments_lexer": "ipython3",
   "version": "3.9.10"
  },
  "orig_nbformat": 4
 },
 "nbformat": 4,
 "nbformat_minor": 2
}
