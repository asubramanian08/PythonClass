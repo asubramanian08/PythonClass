{
 "cells": [
  {
   "cell_type": "markdown",
   "metadata": {},
   "source": [
    "## Project: Alpha-Beta Pruning\n",
    "\n",
    "Complete the alpha-beta pruning for the tic-tac-toe. Using only a few lines of code you can significantly speed up the time it takes to find the best move. Specifically, for the first move of tic-tac-toe instead of taking 404.7 milliseconds it took 0.66 milliseconds. This time difference is really important for more complex 2-player games like chess and connect 4."
   ]
  }
 ],
 "metadata": {
  "language_info": {
   "name": "python"
  },
  "orig_nbformat": 4
 },
 "nbformat": 4,
 "nbformat_minor": 2
}
