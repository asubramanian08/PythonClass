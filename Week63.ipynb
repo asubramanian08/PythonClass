{
 "cells": [
  {
   "cell_type": "markdown",
   "metadata": {},
   "source": [
    "## Project: Minimax\n",
    "\n",
    "Finish and integrate the minimax algorithm into the game by asking if the user wants to play against a computer or another human.\n",
    "\n",
    "Time how long the `bestMove` function takes:\n",
    "```python\n",
    "import time\n",
    "\n",
    "start = time.time()\n",
    "# call function\n",
    "end = time.time()\n",
    "print(end - start)\n",
    "```\n",
    "\n",
    "## Next Step: Alpha-Beta Pruning\n",
    "\n",
    "Implement alpha-beta pruning into the minimax algorithm - Introduce the idea of the pruning step."
   ]
  }
 ],
 "metadata": {
  "language_info": {
   "name": "python"
  },
  "orig_nbformat": 4
 },
 "nbformat": 4,
 "nbformat_minor": 2
}
