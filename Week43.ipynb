{
 "cells": [
  {
   "cell_type": "markdown",
   "metadata": {},
   "source": [
    "## Programming Assignment"
   ]
  },
  {
   "cell_type": "code",
   "execution_count": 9,
   "metadata": {},
   "outputs": [],
   "source": [
    "\"\"\" Draw a smiley face using turtle graphics \"\"\"\n",
    "\n",
    "import turtle\n",
    "\n",
    "def move_pen(x, y):\n",
    "    \"\"\" Move the pen to the given coordinates \"\"\"\n",
    "    turtle.penup()\n",
    "    turtle.goto(x, y)\n",
    "    turtle.pendown()\n",
    "\n",
    "# Draw the face\n",
    "move_pen(0, -100)\n",
    "turtle.circle(100)\n",
    "\n",
    "# Draw the left eye\n",
    "move_pen(30, 50)\n",
    "turtle.circle(5)\n",
    "\n",
    "# Draw the right eye\n",
    "move_pen(-30, 50)\n",
    "turtle.circle(5)\n",
    "\n",
    "# Draw the mouth\n",
    "move_pen(-50, -30)\n",
    "turtle.right(45)\n",
    "turtle.circle(75, 90)\n",
    "\n",
    "# End drawing\n",
    "turtle.hideturtle()\n",
    "turtle.exitonclick()"
   ]
  }
 ],
 "metadata": {
  "kernelspec": {
   "display_name": "Python 3.10.6 64-bit",
   "language": "python",
   "name": "python3"
  },
  "language_info": {
   "codemirror_mode": {
    "name": "ipython",
    "version": 3
   },
   "file_extension": ".py",
   "mimetype": "text/x-python",
   "name": "python",
   "nbconvert_exporter": "python",
   "pygments_lexer": "ipython3",
   "version": "3.10.6"
  },
  "orig_nbformat": 4,
  "vscode": {
   "interpreter": {
    "hash": "aee8b7b246df8f9039afb4144a1f6fd8d2ca17a180786b69acc140d282b71a49"
   }
  }
 },
 "nbformat": 4,
 "nbformat_minor": 2
}
