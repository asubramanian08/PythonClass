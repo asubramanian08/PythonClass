{
 "cells": [
  {
   "cell_type": "markdown",
   "metadata": {},
   "source": [
    "## Programming Problem"
   ]
  },
  {
   "cell_type": "code",
   "execution_count": null,
   "metadata": {},
   "outputs": [],
   "source": [
    "\"\"\" Givin a user input print you have x dollars.\n",
    "Keep getting input until there are 20 or more.\n",
    "If you have less money than you had before quit. \"\"\"\n",
    "\n",
    "money = 0\n",
    "GOAL = 20\n",
    "while money < GOAL:\n",
    "    print(\"Keep working toward your goal of\", GOAL, \"dollars\")\n",
    "    newDollars = int(input(\"Enter how much money you have: \"))\n",
    "    if money > newDollars:\n",
    "        print(\"Poor money management.\", \"You lost\",\n",
    "              money - newDollars, \"dollars\")\n",
    "        break\n",
    "    money = newDollars\n",
    "    print(\"You have\", money, \"dollars in your bank account.\")\n",
    "if money >= 20:\n",
    "    print(\"You have reached your financial goal of\", GOAL, \"dollars!\")\n"
   ]
  }
 ],
 "metadata": {
  "interpreter": {
   "hash": "aee8b7b246df8f9039afb4144a1f6fd8d2ca17a180786b69acc140d282b71a49"
  },
  "kernelspec": {
   "display_name": "Python 3.9.10 64-bit",
   "language": "python",
   "name": "python3"
  },
  "language_info": {
   "name": "python",
   "version": "3.9.10"
  },
  "orig_nbformat": 4
 },
 "nbformat": 4,
 "nbformat_minor": 2
}
