{
 "cells": [
  {
   "cell_type": "markdown",
   "metadata": {},
   "source": [
    "## Introduction\n",
    "    \n",
    "Introduction and Greetings\n",
    "    \n",
    "Purpose of class: programmatic thinking in python\n",
    "    \n",
    "What a day will look like: Learn concept, simple examples, some harder problems"
   ]
  },
  {
   "cell_type": "markdown",
   "metadata": {},
   "source": [
    "## Go though their connect 4 code\n",
    "\n",
    "Get to know their level.\n",
    "\n",
    "Give some pointers on how they can improve."
   ]
  },
  {
   "cell_type": "markdown",
   "metadata": {},
   "source": [
    "## Lesson: Meet the loop\n",
    "    \n",
    "Discuss how important a loop is.\n",
    "    \n",
    "Briefly talk about the loop syntax. Useful links:\n",
    "* https://www.w3schools.com/python/python_for_loops.asp\n",
    "* https://www.w3schools.com/python/python_while_loops.asp"
   ]
  },
  {
   "cell_type": "code",
   "execution_count": null,
   "metadata": {},
   "outputs": [],
   "source": [
    "\"\"\" SECTION 1: range \"\"\"\n",
    "for i in range(9):\n",
    "    if(i % 3 == 0):\n",
    "        print(i, end=' ')\n",
    "print()  # print a new line\n",
    "for i in range(0, 9, 3):\n",
    "    print(i, end=' ')\n",
    "print()  # print a new line"
   ]
  },
  {
   "cell_type": "code",
   "execution_count": null,
   "metadata": {},
   "outputs": [],
   "source": [
    "\"\"\" SECTION 2: dict, list, and string \"\"\"\n",
    "d = {1: 'hello', 2: 'world', 'helloworld': 12}  # dictionary\n",
    "l = [1, 2]  # list\n",
    "s = ''  # string\n",
    "for i in l:\n",
    "    print(d[i])\n",
    "    s += d[i]\n",
    "print()  # print a new line\n",
    "for ch in s:\n",
    "    print(ch, end='')\n",
    "print(d[s])"
   ]
  },
  {
   "cell_type": "code",
   "execution_count": null,
   "metadata": {},
   "outputs": [],
   "source": [
    "\"\"\" SECTION 3: while, tuple, and set \"\"\"\n",
    "t = ('hi', 7, False, 'STOP', 12)  # tuple\n",
    "st = {4, s, 3.903}  # set\n",
    "it = 0\n",
    "while t[it] != False and it < len(t):\n",
    "    print(t[it], end=' ')\n",
    "    it += 1\n",
    "print()  # print a new line\n",
    "it = 0\n",
    "for i in st:\n",
    "    print(i)\n",
    "while st[it] != False and it < len(st):\n",
    "    print(st[it], end=' ')\n",
    "    it += 1\n",
    "print()\n",
    "print(st)  # compare with looping version"
   ]
  },
  {
   "cell_type": "markdown",
   "metadata": {},
   "source": [
    "## Loop examples"
   ]
  },
  {
   "cell_type": "code",
   "execution_count": null,
   "metadata": {},
   "outputs": [],
   "source": [
    "\"\"\" add up an array \"\"\"\n",
    "arr = [4, 53, 3.03, 8, -1, True, -4.2]\n",
    "s = 0.0\n",
    "for ele in arr:\n",
    "    s = s + ele\n",
    "print('Sum', '=', s)"
   ]
  },
  {
   "cell_type": "code",
   "execution_count": null,
   "metadata": {},
   "outputs": [],
   "source": [
    "\"\"\" reverse an array \"\"\"\n",
    "arrLen = len(arr)\n",
    "for i in range((int)(arrLen / 2)):\n",
    "    temp = arr[i]\n",
    "    arr[i] = arr[arrLen - 1 - i]\n",
    "    arr[arrLen - 1 - i] = temp\n",
    "print(arr)"
   ]
  },
  {
   "cell_type": "markdown",
   "metadata": {},
   "source": [
    "## Programming Problems"
   ]
  },
  {
   "cell_type": "code",
   "execution_count": null,
   "metadata": {},
   "outputs": [],
   "source": [
    "def pyramid(x):\n",
    "    \"\"\" Centered pyramid with x rows \"\"\"\n",
    "    for i in range(1, x + 1):\n",
    "        print((x - i) * ' ', end='')\n",
    "        print(i * '* ')\n",
    "\n",
    "pyramid(3)"
   ]
  },
  {
   "cell_type": "code",
   "execution_count": null,
   "metadata": {},
   "outputs": [],
   "source": [
    "def cumulativeInfo(arr):\n",
    "    \"\"\" Sum, Max, Avg of an array \"\"\"\n",
    "    s = m = a = 0.0\n",
    "    for ele in arr:\n",
    "        m = max(m, ele)\n",
    "        s += ele\n",
    "    a = s / len(arr)\n",
    "    print('Sum =', s)\n",
    "    print('Max =', m)\n",
    "    print('Avg =', a)\n",
    "\n",
    "cumulativeInfo([4, 53, 3.03, 8, -1, True, -4.2])"
   ]
  }
 ],
 "metadata": {
  "interpreter": {
   "hash": "aee8b7b246df8f9039afb4144a1f6fd8d2ca17a180786b69acc140d282b71a49"
  },
  "kernelspec": {
   "display_name": "Python 3.9.1 64-bit",
   "name": "python3"
  },
  "language_info": {
   "codemirror_mode": {
    "name": "ipython",
    "version": 3
   },
   "file_extension": ".py",
   "mimetype": "text/x-python",
   "name": "python",
   "nbconvert_exporter": "python",
   "pygments_lexer": "ipython3",
   "version": "3.9.10"
  },
  "orig_nbformat": 4
 },
 "nbformat": 4,
 "nbformat_minor": 2
}
